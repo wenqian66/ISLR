{
 "cells": [
  {
   "cell_type": "code",
   "execution_count": 571,
   "id": "b131639d-f034-41f5-af29-530fc30d0de8",
   "metadata": {},
   "outputs": [],
   "source": [
    "import numpy as np\n",
    "import statsmodels.api as sm\n",
    "from ISLP import load_data\n",
    "from ISLP.models import (ModelSpec as MS,\n",
    "summarize,\n",
    "poly)\n",
    "from sklearn.model_selection import train_test_split\n",
    "import pandas as pd\n",
    "import matplotlib.pyplot as plt\n",
    "from sklearn.preprocessing import PolynomialFeatures\n",
    "from sklearn.linear_model import LinearRegression\n",
    "from sklearn.pipeline import Pipeline\n",
    "from sklearn.model_selection import LeaveOneOut, cross_val_score\n",
    "from sklearn.utils import resample\n"
   ]
  },
  {
   "cell_type": "code",
   "execution_count": 384,
   "id": "2f70152f-b240-4df2-9c9c-9d4cdb84e72b",
   "metadata": {},
   "outputs": [],
   "source": [
    "from functools import partial\n",
    "from sklearn.model_selection import \\\n",
    "(cross_validate,\n",
    "KFold,\n",
    "ShuffleSplit)\n",
    "from sklearn.base import clone\n",
    "from ISLP.models import sklearn_sm\n",
    "from ISLP import confusion_table"
   ]
  },
  {
   "cell_type": "code",
   "execution_count": 385,
   "id": "6c908b50-b2a7-4617-a0d5-7b34906ad12f",
   "metadata": {},
   "outputs": [],
   "source": [
    "#################labs\n",
    "# Validation Set Approach \n",
    "Auto = load_data('Auto')\n",
    "Auto['horsepower'] = pd.to_numeric(Auto['horsepower'], errors='coerce')\n",
    "Auto_train, Auto_valid = train_test_split(Auto,\n",
    "                                          test_size=196,\n",
    "                                          random_state=0)"
   ]
  },
  {
   "cell_type": "code",
   "execution_count": 386,
   "id": "c7eb16fb-b700-441c-b6ee-0bfd44486c66",
   "metadata": {},
   "outputs": [],
   "source": [
    "#fit a linear regression\n",
    "hp_mm = MS(['horsepower'])\n",
    "X_train = hp_mm.fit_transform(Auto_train)\n",
    "y_train = Auto_train['mpg']\n",
    "model = sm.OLS(y_train, X_train)\n",
    "results1 = model.fit()"
   ]
  },
  {
   "cell_type": "code",
   "execution_count": 387,
   "id": "77326343-7084-4604-b5fc-265ea8420012",
   "metadata": {},
   "outputs": [
    {
     "data": {
      "text/plain": [
       "23.61661706966988"
      ]
     },
     "execution_count": 387,
     "metadata": {},
     "output_type": "execute_result"
    }
   ],
   "source": [
    "#predict() method of results evaluated\n",
    "X_valid = hp_mm.transform(Auto_valid)\n",
    "y_valid = Auto_valid['mpg']\n",
    "valid_pred = results1.predict(X_valid)\n",
    "np.mean((y_valid - valid_pred)**2)"
   ]
  },
  {
   "cell_type": "code",
   "execution_count": 388,
   "id": "50f77ab0-c48b-4718-b09c-5e996d9d1659",
   "metadata": {},
   "outputs": [],
   "source": [
    "#higher-degree polynomial regressions\n",
    "def evalMSE(terms,\n",
    "            response,\n",
    "            train,\n",
    "            test):\n",
    "    mm = MS(terms)\n",
    "    X_train = mm.fit_transform(train)\n",
    "    y_train = train[response]\n",
    "    X_test = mm.transform(test)\n",
    "    y_test = test[response]\n",
    "    results = sm.OLS(y_train, X_train).fit()\n",
    "    test_pred = results.predict(X_test)\n",
    "    return np.mean((y_test - test_pred)**2)"
   ]
  },
  {
   "cell_type": "code",
   "execution_count": 389,
   "id": "8024c944-7aca-44f2-b33a-cc2e78250da4",
   "metadata": {},
   "outputs": [
    {
     "data": {
      "text/plain": [
       "array([23.61661707, 18.76303135, 18.79694163])"
      ]
     },
     "execution_count": 389,
     "metadata": {},
     "output_type": "execute_result"
    }
   ],
   "source": [
    "MSE = np.zeros(3)\n",
    "for idx, degree in enumerate(range(1, 4)):\n",
    "    MSE[idx] = evalMSE([poly('horsepower', degree)],\n",
    "                       'mpg',\n",
    "                       Auto_train,\n",
    "                       Auto_valid)\n",
    "MSE"
   ]
  },
  {
   "cell_type": "code",
   "execution_count": 390,
   "id": "15d7d795-bd7f-436f-9177-0fb9697904c1",
   "metadata": {},
   "outputs": [],
   "source": [
    "#estimate the validation MSE using linear, quadratic and cubic fits"
   ]
  },
  {
   "cell_type": "code",
   "execution_count": 391,
   "id": "e85aa5a7-028b-461f-a338-2a8342ca2a68",
   "metadata": {},
   "outputs": [
    {
     "data": {
      "text/plain": [
       "array([20.75540796, 16.94510676, 16.97437833])"
      ]
     },
     "execution_count": 391,
     "metadata": {},
     "output_type": "execute_result"
    }
   ],
   "source": [
    "#choose a different training/validation split\n",
    "Auto_train, Auto_valid = train_test_split(Auto,\n",
    "                                          test_size=196,\n",
    "                                          random_state=3)\n",
    "MSE = np.zeros(3)\n",
    "\n",
    "for idx, degree in enumerate(range(1, 4)):\n",
    "    MSE[idx] = evalMSE([poly('horsepower', degree)],\n",
    "                       'mpg',\n",
    "                       Auto_train,\n",
    "                       Auto_valid)\n",
    "    \n",
    "MSE"
   ]
  },
  {
   "cell_type": "code",
   "execution_count": 392,
   "id": "140fe61d-f445-4a8f-b877-5153dcdb2c3d",
   "metadata": {},
   "outputs": [],
   "source": [
    "#predicts mpg using a quadratic function of horsepower performs better than linear&no evidence of that cubic better"
   ]
  },
  {
   "cell_type": "code",
   "execution_count": 393,
   "id": "31e6d566-a450-4ff3-b7ce-f2c685fa2258",
   "metadata": {},
   "outputs": [
    {
     "data": {
      "text/plain": [
       "24.23151351792924"
      ]
     },
     "execution_count": 393,
     "metadata": {},
     "output_type": "execute_result"
    }
   ],
   "source": [
    "#Cross-Validation\n",
    "hp_model = sklearn_sm(sm.OLS,\n",
    "                      MS(['horsepower']))\n",
    "X, Y = Auto.drop(columns=['mpg']), Auto['mpg']\n",
    "cv_results = cross_validate(hp_model,\n",
    "                            X,\n",
    "                            Y,\n",
    "                            cv=Auto.shape[0])\n",
    "cv_err = np.mean(cv_results['test_score'])\n",
    "cv_err"
   ]
  },
  {
   "cell_type": "code",
   "execution_count": 394,
   "id": "e6fe0fa9-69db-4472-8b92-049541899fe6",
   "metadata": {},
   "outputs": [
    {
     "data": {
      "text/plain": [
       "array([24.23151352, 19.24821312, 19.33498406, 19.42443033, 19.03323827])"
      ]
     },
     "execution_count": 394,
     "metadata": {},
     "output_type": "execute_result"
    }
   ],
   "source": [
    "cv_error = np.zeros(5)\n",
    "H = np.array(Auto['horsepower'])\n",
    "M = sklearn_sm(sm.OLS)\n",
    "for i, d in enumerate(range(1,6)):\n",
    "    X = np.power.outer(H, np.arange(d+1))\n",
    "    M_CV = cross_validate(M,\n",
    "                          X,\n",
    "                          Y,\n",
    "                          cv=Auto.shape[0])\n",
    "    cv_error[i] = np.mean(M_CV['test_score'])\n",
    "cv_error"
   ]
  },
  {
   "cell_type": "code",
   "execution_count": 395,
   "id": "ed7e7131-9ac2-4f43-90d3-bf9e756b9b56",
   "metadata": {},
   "outputs": [
    {
     "data": {
      "text/plain": [
       "array([[ 5,  7],\n",
       "       [ 7,  9],\n",
       "       [11, 13]])"
      ]
     },
     "execution_count": 395,
     "metadata": {},
     "output_type": "execute_result"
    }
   ],
   "source": [
    "A = np.array([3, 5, 9])\n",
    "B = np.array([2, 4])\n",
    "np.add.outer(A, B)"
   ]
  },
  {
   "cell_type": "code",
   "execution_count": 396,
   "id": "4543bfef-946b-4e62-914c-332a93f875f3",
   "metadata": {},
   "outputs": [
    {
     "data": {
      "text/plain": [
       "array([24.20766449, 19.18533142, 19.27626666, 19.47848403, 19.13720581])"
      ]
     },
     "execution_count": 396,
     "metadata": {},
     "output_type": "execute_result"
    }
   ],
   "source": [
    "######### use KFold() to partition the data into K = 10\n",
    "cv_error = np.zeros(5)\n",
    "cv = KFold(n_splits=10,\n",
    "           shuffle=True,\n",
    "           random_state=0) # use same splits for each degree\n",
    "for i, d in enumerate(range(1,6)):\n",
    "    X = np.power.outer(H, np.arange(d+1))\n",
    "    M_CV = cross_validate(M,\n",
    "                          X,\n",
    "                          Y,\n",
    "                          cv=cv)\n",
    "    cv_error[i] = np.mean(M_CV['test_score'])\n",
    "cv_error"
   ]
  },
  {
   "cell_type": "code",
   "execution_count": 397,
   "id": "e4f844a6-c289-4375-a7ef-bcf2a855b205",
   "metadata": {},
   "outputs": [
    {
     "data": {
      "text/plain": [
       "array([23.61661707])"
      ]
     },
     "execution_count": 397,
     "metadata": {},
     "output_type": "execute_result"
    }
   ],
   "source": [
    "#validation set approach ShuffleSplit()\n",
    "validation = ShuffleSplit(n_splits=1,\n",
    "                          test_size=196,\n",
    "                          random_state=0)\n",
    "results = cross_validate(hp_model,\n",
    "                         Auto.drop(['mpg'], axis=1),\n",
    "                         Auto['mpg'],\n",
    "                         cv=validation);\n",
    "results['test_score']"
   ]
  },
  {
   "cell_type": "code",
   "execution_count": 398,
   "id": "618f479d-656e-490d-99df-4bced1d9d833",
   "metadata": {},
   "outputs": [
    {
     "data": {
      "text/plain": [
       "(23.802232661034168, 1.421845094109185)"
      ]
     },
     "execution_count": 398,
     "metadata": {},
     "output_type": "execute_result"
    }
   ],
   "source": [
    "validation = ShuffleSplit(n_splits=10,\n",
    "                          test_size=196,\n",
    "                          random_state=0)\n",
    "results = cross_validate(hp_model,\n",
    "                         Auto.drop(['mpg'], axis=1),\n",
    "                         Auto['mpg'],\n",
    "                         cv=validation)\n",
    "results['test_score'].mean(), results['test_score'].std()"
   ]
  },
  {
   "cell_type": "code",
   "execution_count": 399,
   "id": "c538cc5a-efd8-4418-aae7-428007c487da",
   "metadata": {},
   "outputs": [],
   "source": [
    "###############The Bootstrap"
   ]
  },
  {
   "cell_type": "code",
   "execution_count": 400,
   "id": "70a7d75c-f6df-4b7c-a376-b7c22dd5de26",
   "metadata": {},
   "outputs": [],
   "source": [
    "#estimate for α based on the selected observations\n",
    "# input a dataframe D assumed to have columns X and Y\n",
    "Portfolio = load_data('Portfolio')\n",
    "def alpha_func(D, idx):\n",
    "    cov_ = np.cov(D[['X','Y']].loc[idx], rowvar=False)\n",
    "    return ((cov_[1,1] - cov_[0,1]) /\n",
    "            (cov_[0,0]+cov_[1,1]-2*cov_[0,1]))"
   ]
  },
  {
   "cell_type": "code",
   "execution_count": 401,
   "id": "50565246-0b60-42df-855f-41dc95ac647b",
   "metadata": {},
   "outputs": [
    {
     "data": {
      "text/plain": [
       "0.57583207459283"
      ]
     },
     "execution_count": 401,
     "metadata": {},
     "output_type": "execute_result"
    }
   ],
   "source": [
    "# estimates α using all 100 observations\n",
    "alpha_func(Portfolio, range(100))"
   ]
  },
  {
   "cell_type": "code",
   "execution_count": 402,
   "id": "a8c6ae16-6b15-4b00-82af-0ef6b31aee71",
   "metadata": {},
   "outputs": [
    {
     "data": {
      "text/plain": [
       "0.6074452469619004"
      ]
     },
     "execution_count": 402,
     "metadata": {},
     "output_type": "execute_result"
    }
   ],
   "source": [
    "#randomly select 100 observations from range(100)\n",
    "rng = np.random.default_rng(0) #seed\n",
    "alpha_func(Portfolio,\n",
    "           rng.choice(100, #given range 0 to 99, 100 is the given upper bound\n",
    "                      100, #size of sample; how many items to choose\n",
    "                      replace=True)) #the same number could be chosen multiple times in the sample"
   ]
  },
  {
   "cell_type": "code",
   "execution_count": 403,
   "id": "c11f1b37-c7cd-4c18-9f44-887ac373ee8f",
   "metadata": {},
   "outputs": [],
   "source": [
    "#alternative\n",
    "#a simple function boot_SE()\n",
    "def boot_SE(func,\n",
    "            D,\n",
    "            n=None,\n",
    "            B=1000,\n",
    "            seed=0):\n",
    "    rng = np.random.default_rng(seed)\n",
    "    first_, second_ = 0, 0\n",
    "    n = n or D.shape[0] #If n is not provided, it defaults to the number of rows in D\n",
    "    for _ in range(B):#randomly selects n indices with replacement from the dataset indices\n",
    "        idx = rng.choice(D.index,\n",
    "                         n,\n",
    "                         replace=True)\n",
    "        value = func(D, idx)\n",
    "        first_ += value\n",
    "        second_ += value**2\n",
    "    return np.sqrt(second_ / B - (first_ / B)**2)"
   ]
  },
  {
   "cell_type": "code",
   "execution_count": 404,
   "id": "e206201e-2a5d-418a-9022-088b308c9def",
   "metadata": {},
   "outputs": [
    {
     "data": {
      "text/plain": [
       "0.09118176521277699"
      ]
     },
     "execution_count": 404,
     "metadata": {},
     "output_type": "execute_result"
    }
   ],
   "source": [
    "#B = 1,000 bootstrap replications.\n",
    "alpha_SE = boot_SE(alpha_func,\n",
    "                   Portfolio,\n",
    "                   B=1000,\n",
    "                   seed=0)\n",
    "alpha_SE"
   ]
  },
  {
   "cell_type": "code",
   "execution_count": 405,
   "id": "8a572377-d316-4d56-80b3-c4fa18a553e4",
   "metadata": {},
   "outputs": [],
   "source": [
    "#######Estimating the Accuracy of a Linear Regression Model"
   ]
  },
  {
   "cell_type": "code",
   "execution_count": 406,
   "id": "192b07b7-71a5-4f35-9f14-688dc3e42d11",
   "metadata": {},
   "outputs": [],
   "source": [
    "#boot_OLS() for bootstrapping a regression model\n",
    "def boot_OLS(model_matrix, response, D, idx):\n",
    "    D_ = D.loc[idx]\n",
    "    Y_ = D_[response]\n",
    "    X_ = clone(model_matrix).fit_transform(D_)\n",
    "    return sm.OLS(Y_, X_).fit().params"
   ]
  },
  {
   "cell_type": "code",
   "execution_count": 407,
   "id": "dcd4a22d-fb09-4e31-be5b-03d2af69a03b",
   "metadata": {},
   "outputs": [
    {
     "data": {
      "text/plain": [
       "\u001b[0;31mSignature:\u001b[0m      \u001b[0mhp_func\u001b[0m\u001b[0;34m(\u001b[0m\u001b[0mD\u001b[0m\u001b[0;34m,\u001b[0m \u001b[0midx\u001b[0m\u001b[0;34m)\u001b[0m\u001b[0;34m\u001b[0m\u001b[0;34m\u001b[0m\u001b[0m\n",
       "\u001b[0;31mCall signature:\u001b[0m \u001b[0mhp_func\u001b[0m\u001b[0;34m(\u001b[0m\u001b[0;34m*\u001b[0m\u001b[0margs\u001b[0m\u001b[0;34m,\u001b[0m \u001b[0;34m**\u001b[0m\u001b[0mkwargs\u001b[0m\u001b[0;34m)\u001b[0m\u001b[0;34m\u001b[0m\u001b[0;34m\u001b[0m\u001b[0m\n",
       "\u001b[0;31mType:\u001b[0m           partial\n",
       "\u001b[0;31mString form:\u001b[0m    functools.partial(<function boot_OLS at 0x1501c2340>, ModelSpec(terms=['horsepower']), 'mpg')\n",
       "\u001b[0;31mFile:\u001b[0m           /opt/anaconda3/lib/python3.11/functools.py\n",
       "\u001b[0;31mDocstring:\u001b[0m     \n",
       "partial(func, *args, **keywords) - new function with partial application\n",
       "of the given arguments and keywords."
      ]
     },
     "metadata": {},
     "output_type": "display_data"
    }
   ],
   "source": [
    "#use partial() to freeze the first two model-formula arguments\n",
    "hp_func = partial(boot_OLS, MS(['horsepower']), 'mpg')\n",
    "hp_func?"
   ]
  },
  {
   "cell_type": "code",
   "execution_count": 408,
   "id": "c3817c35-d3ab-4e6f-8dab-ee6e39db56d7",
   "metadata": {},
   "outputs": [],
   "source": [
    "#it has two arguments D and idx\n",
    "#first two arguments frozen — and hence is ideal as the first argument"
   ]
  },
  {
   "cell_type": "code",
   "execution_count": 409,
   "id": "ee71fb56-6d0e-4708-bc7f-f235395de848",
   "metadata": {},
   "outputs": [],
   "source": [
    "Auto.reset_index(drop=True, inplace=True)"
   ]
  },
  {
   "cell_type": "code",
   "execution_count": 410,
   "id": "64abdd99-b4dc-45aa-b14e-9b5997a4a79d",
   "metadata": {},
   "outputs": [
    {
     "data": {
      "text/plain": [
       "array([[39.88064456, -0.1567849 ],\n",
       "       [38.73298691, -0.14699495],\n",
       "       [38.31734657, -0.14442683],\n",
       "       [39.91446826, -0.15782234],\n",
       "       [39.43349349, -0.15072702],\n",
       "       [40.36629857, -0.15912217],\n",
       "       [39.62334517, -0.15449117],\n",
       "       [39.0580588 , -0.14952908],\n",
       "       [38.66688437, -0.14521037],\n",
       "       [39.64280792, -0.15555698]])"
      ]
     },
     "execution_count": 410,
     "metadata": {},
     "output_type": "execute_result"
    }
   ],
   "source": [
    "rng = np.random.default_rng(0)\n",
    "np.array([hp_func(Auto,\n",
    "          rng.choice(392,\n",
    "                     392,\n",
    "                     replace = True)) for _ in range(10)])"
   ]
  },
  {
   "cell_type": "code",
   "execution_count": 411,
   "id": "eca50e31-0348-41b5-b012-25185cdeca91",
   "metadata": {},
   "outputs": [
    {
     "data": {
      "text/plain": [
       "intercept     0.848807\n",
       "horsepower    0.007352\n",
       "dtype: float64"
      ]
     },
     "execution_count": 411,
     "metadata": {},
     "output_type": "execute_result"
    }
   ],
   "source": [
    "#use the boot_SE() function to compute the standard errors of 1,000 bootstrap\n",
    "hp_se = boot_SE(hp_func,\n",
    "                Auto,\n",
    "                B=1000,\n",
    "                seed=10)\n",
    "hp_se"
   ]
  },
  {
   "cell_type": "code",
   "execution_count": 412,
   "id": "fa40956f-165d-438e-b619-d1470145a2c7",
   "metadata": {},
   "outputs": [
    {
     "data": {
      "text/plain": [
       "intercept     0.717\n",
       "horsepower    0.006\n",
       "Name: std err, dtype: float64"
      ]
     },
     "execution_count": 412,
     "metadata": {},
     "output_type": "execute_result"
    }
   ],
   "source": [
    "# compute the standard errors for the regression coeffcients in a linear model\n",
    "hp_model.fit(Auto, Auto['mpg'])\n",
    "model_se = summarize(hp_model.results_)['std err']\n",
    "model_se"
   ]
  },
  {
   "cell_type": "code",
   "execution_count": 413,
   "id": "4ce59103-5915-488d-9a0a-48aafbc422e3",
   "metadata": {},
   "outputs": [],
   "source": [
    "#different from bootstrap\n",
    "# In fact,it suggests the opposite.\n",
    "#depend on the unknown parameter σ2, the noise variance. We then estimate σ2 using the RSS.\n",
    "# Now although the formula for the standard errors do not rely on the linear model being correct, the estimate for σ^2 does\n",
    "# bootstrap approach does not rely on any of these assumptions"
   ]
  },
  {
   "cell_type": "code",
   "execution_count": 414,
   "id": "d1e824ce-13bd-45cf-958a-2f9384c3ef34",
   "metadata": {},
   "outputs": [
    {
     "data": {
      "text/plain": [
       "intercept                                  2.067840\n",
       "poly(horsepower, degree=2, raw=True)[0]    0.033019\n",
       "poly(horsepower, degree=2, raw=True)[1]    0.000120\n",
       "dtype: float64"
      ]
     },
     "execution_count": 414,
     "metadata": {},
     "output_type": "execute_result"
    }
   ],
   "source": [
    "# estimates and the standard estimates of SE(βˆ0), SE(βˆ1) and SE(βˆ2).\n",
    "quad_model = MS([poly('horsepower', 2, raw=True)])\n",
    "quad_func = partial(boot_OLS,\n",
    "                    quad_model,\n",
    "                    'mpg')\n",
    "boot_SE(quad_func, Auto, B=1000)"
   ]
  },
  {
   "cell_type": "code",
   "execution_count": 415,
   "id": "31108bf6-1550-4e60-a2a3-515147e1ed8b",
   "metadata": {},
   "outputs": [
    {
     "data": {
      "text/plain": [
       "intercept                                  1.800\n",
       "poly(horsepower, degree=2, raw=True)[0]    0.031\n",
       "poly(horsepower, degree=2, raw=True)[1]    0.000\n",
       "Name: std err, dtype: float64"
      ]
     },
     "execution_count": 415,
     "metadata": {},
     "output_type": "execute_result"
    }
   ],
   "source": [
    "#using sm.OLS()\n",
    "M = sm.OLS(Auto['mpg'],\n",
    "quad_model.fit_transform(Auto))\n",
    "summarize(M.fit())['std err']"
   ]
  },
  {
   "cell_type": "code",
   "execution_count": null,
   "id": "74384751-abfc-40fc-8803-9fa69392fb66",
   "metadata": {},
   "outputs": [],
   "source": []
  },
  {
   "cell_type": "code",
   "execution_count": null,
   "id": "66aabf3e-d634-422a-a6ab-44b9886b26d1",
   "metadata": {},
   "outputs": [],
   "source": []
  },
  {
   "cell_type": "code",
   "execution_count": null,
   "id": "3c8c922c-83b4-46d2-9a84-55736da5a1b4",
   "metadata": {},
   "outputs": [],
   "source": []
  },
  {
   "cell_type": "code",
   "execution_count": 416,
   "id": "6fe598f5-1aca-42a7-8ee4-a4c9da4dd259",
   "metadata": {},
   "outputs": [],
   "source": [
    "##############exercises"
   ]
  },
  {
   "cell_type": "code",
   "execution_count": 417,
   "id": "4f8fdcc1-4066-4b5c-8bf5-221a546bfa3a",
   "metadata": {},
   "outputs": [],
   "source": [
    "# 5."
   ]
  },
  {
   "cell_type": "code",
   "execution_count": 418,
   "id": "be2763af-daf6-494d-9ec4-9510a933318b",
   "metadata": {},
   "outputs": [],
   "source": [
    "Default = load_data('Default')"
   ]
  },
  {
   "cell_type": "code",
   "execution_count": 419,
   "id": "673c039d-4ac3-444b-850d-ee0db435565e",
   "metadata": {},
   "outputs": [
    {
     "name": "stdout",
     "output_type": "stream",
     "text": [
      "Optimization terminated successfully.\n",
      "         Current function value: 0.078948\n",
      "         Iterations 10\n"
     ]
    }
   ],
   "source": [
    "#a logistic regression model that uses income and balance to predict default\n",
    "design = MS(['income','balance'])\n",
    "X = design.fit_transform(Default)\n",
    "y = Default.default == 'Yes'\n",
    "glm = sm.Logit(y, X)\n",
    "results = glm.fit()"
   ]
  },
  {
   "cell_type": "code",
   "execution_count": 420,
   "id": "4aff4d32-e80c-4e9b-9043-9c9a1302c2e2",
   "metadata": {},
   "outputs": [],
   "source": [
    "#b.validation set approach to estimate the test error of this model"
   ]
  },
  {
   "cell_type": "code",
   "execution_count": 421,
   "id": "6dc7cfde-ad2e-4634-80b2-e9fb3fee319b",
   "metadata": {},
   "outputs": [],
   "source": [
    "#i.Split\n",
    "Default_train, Default_valid = train_test_split(Default,\n",
    "                                          test_size=5000,\n",
    "                                          random_state=0)"
   ]
  },
  {
   "cell_type": "code",
   "execution_count": 422,
   "id": "5e448b97-d14e-4858-8ef5-24664185db94",
   "metadata": {},
   "outputs": [
    {
     "name": "stdout",
     "output_type": "stream",
     "text": [
      "Optimization terminated successfully.\n",
      "         Current function value: 0.072956\n",
      "         Iterations 10\n"
     ]
    }
   ],
   "source": [
    "#ii.fit a multiple logistic regression model\n",
    "hp_mm = MS(['income','balance'])\n",
    "X_train = hp_mm.fit_transform(Default_train)\n",
    "y_train = Default_train.default == 'Yes'\n",
    "glm = sm.Logit(y_train, X_train)\n",
    "results = glm.fit()"
   ]
  },
  {
   "cell_type": "code",
   "execution_count": 423,
   "id": "a7ba892f-b6c5-49f4-ae4c-58a226a59305",
   "metadata": {},
   "outputs": [
    {
     "data": {
      "text/html": [
       "<div>\n",
       "<style scoped>\n",
       "    .dataframe tbody tr th:only-of-type {\n",
       "        vertical-align: middle;\n",
       "    }\n",
       "\n",
       "    .dataframe tbody tr th {\n",
       "        vertical-align: top;\n",
       "    }\n",
       "\n",
       "    .dataframe thead th {\n",
       "        text-align: right;\n",
       "    }\n",
       "</style>\n",
       "<table border=\"1\" class=\"dataframe\">\n",
       "  <thead>\n",
       "    <tr style=\"text-align: right;\">\n",
       "      <th>Truth</th>\n",
       "      <th>No</th>\n",
       "      <th>Yes</th>\n",
       "    </tr>\n",
       "    <tr>\n",
       "      <th>Predicted</th>\n",
       "      <th></th>\n",
       "      <th></th>\n",
       "    </tr>\n",
       "  </thead>\n",
       "  <tbody>\n",
       "    <tr>\n",
       "      <th>No</th>\n",
       "      <td>4801</td>\n",
       "      <td>132</td>\n",
       "    </tr>\n",
       "    <tr>\n",
       "      <th>Yes</th>\n",
       "      <td>13</td>\n",
       "      <td>54</td>\n",
       "    </tr>\n",
       "  </tbody>\n",
       "</table>\n",
       "</div>"
      ],
      "text/plain": [
       "Truth        No  Yes\n",
       "Predicted           \n",
       "No         4801  132\n",
       "Yes          13   54"
      ]
     },
     "execution_count": 423,
     "metadata": {},
     "output_type": "execute_result"
    }
   ],
   "source": [
    "#iii.a prediction of default status for each individual in the validation set\n",
    "#classifying the individual to the default category\n",
    "X_valid = hp_mm.transform(Default_valid)\n",
    "y_valid = Default_valid.default == 'Yes'\n",
    "valid_pred = results.predict(X_valid)\n",
    "\n",
    "labels = np.array(['No']*len(valid_pred), dtype=object)\n",
    "labels[valid_pred >0.5] = \"Yes\"\n",
    "y_valid_str = np.where(y_valid, \"Yes\", \"No\")\n",
    "\n",
    "confusion_table(labels, y_valid_str)"
   ]
  },
  {
   "cell_type": "code",
   "execution_count": 424,
   "id": "18c2d686-9bbe-4c3e-adf1-409b0be068f7",
   "metadata": {},
   "outputs": [
    {
     "data": {
      "text/plain": [
       "0.029"
      ]
     },
     "execution_count": 424,
     "metadata": {},
     "output_type": "execute_result"
    }
   ],
   "source": [
    "np.mean(labels != y_valid_str)"
   ]
  },
  {
   "cell_type": "code",
   "execution_count": 425,
   "id": "d1025a07-05b0-470b-96c1-85f90d210a56",
   "metadata": {},
   "outputs": [
    {
     "data": {
      "text/plain": [
       "0.023279579914006296"
      ]
     },
     "execution_count": 425,
     "metadata": {},
     "output_type": "execute_result"
    }
   ],
   "source": [
    "#iv error rate\n",
    "np.mean((y_valid - valid_pred)**2)"
   ]
  },
  {
   "cell_type": "code",
   "execution_count": 426,
   "id": "38f3c22e-fac2-4f0d-b3a4-55c24232b832",
   "metadata": {},
   "outputs": [
    {
     "name": "stdout",
     "output_type": "stream",
     "text": [
      "Optimization terminated successfully.\n",
      "         Current function value: 0.075882\n",
      "         Iterations 10\n",
      "Truth        No  Yes\n",
      "Predicted           \n",
      "No         4814  114\n",
      "Yes          26   46\n",
      "Misclassification rate: 0.028\n",
      "Mean Squared Error: 0.02219440961867144\n",
      "Optimization terminated successfully.\n",
      "         Current function value: 0.081584\n",
      "         Iterations 10\n",
      "Truth        No  Yes\n",
      "Predicted           \n",
      "No         4818  102\n",
      "Yes          22   58\n",
      "Misclassification rate: 0.0248\n",
      "Mean Squared Error: 0.020228685735075153\n",
      "Optimization terminated successfully.\n",
      "         Current function value: 0.083923\n",
      "         Iterations 10\n",
      "Truth        No  Yes\n",
      "Predicted           \n",
      "No         4819  103\n",
      "Yes          20   58\n",
      "Misclassification rate: 0.0246\n",
      "Mean Squared Error: 0.019850515165212874\n",
      "Optimization terminated successfully.\n",
      "         Current function value: 0.080109\n",
      "         Iterations 10\n",
      "Truth        No  Yes\n",
      "Predicted           \n",
      "No         4822  106\n",
      "Yes          23   49\n",
      "Misclassification rate: 0.0258\n",
      "Mean Squared Error: 0.0209016150253785\n"
     ]
    }
   ],
   "source": [
    "#c.repeat 3 times\n",
    "for i in range(16,20):\n",
    "    Default_train, Default_valid = train_test_split(Default,\n",
    "                                          test_size=5000,\n",
    "                                          random_state=i)\n",
    "    \n",
    "    # Fit model\n",
    "    hp_mm = MS(['income', 'balance'])\n",
    "    X_train = hp_mm.fit_transform(Default_train)\n",
    "    y_train = Default_train.default == 'Yes'\n",
    "    glm = sm.Logit(y_train, X_train)\n",
    "    results = glm.fit()\n",
    "    \n",
    "    # Predict on validation set\n",
    "    X_valid = hp_mm.transform(Default_valid)\n",
    "    y_valid = Default_valid.default == 'Yes'\n",
    "    valid_pred = results.predict(X_valid)\n",
    "    \n",
    "    # Classification\n",
    "    labels = np.array(['No'] * len(valid_pred), dtype=object)\n",
    "    labels[valid_pred > 0.5] = \"Yes\"\n",
    "    \n",
    "    # Convert y_valid to string format\n",
    "    y_valid_str = np.where(y_valid, \"Yes\", \"No\")\n",
    "    \n",
    "    # Confusion table\n",
    "    conf_matrix = confusion_table(labels, y_valid_str)\n",
    "    print(conf_matrix)\n",
    "    \n",
    "    # Misclassification rate\n",
    "    misclassification_rate = np.mean(labels != y_valid_str)\n",
    "    print(f\"Misclassification rate: {misclassification_rate}\")\n",
    "    \n",
    "    # Mean squared error (convert y_valid to integers)\n",
    "    mse = np.mean((y_valid - valid_pred) ** 2)\n",
    "    print(f\"Mean Squared Error: {mse}\")"
   ]
  },
  {
   "cell_type": "code",
   "execution_count": 427,
   "id": "834405db-1112-4afc-9918-e2514f85b217",
   "metadata": {},
   "outputs": [],
   "source": [
    "#illustrates the variability in the estimated test MSE"
   ]
  },
  {
   "cell_type": "code",
   "execution_count": 428,
   "id": "b3939266-e44b-4d3f-8094-27d9937bfce6",
   "metadata": {},
   "outputs": [
    {
     "name": "stdout",
     "output_type": "stream",
     "text": [
      "Optimization terminated successfully.\n",
      "         Current function value: 0.072293\n",
      "         Iterations 10\n",
      "Truth        No  Yes\n",
      "Predicted           \n",
      "No         4801  133\n",
      "Yes          13   53\n",
      "Misclassification rate: 0.0292\n",
      "Mean Squared Error: 0.023250492462762333\n"
     ]
    }
   ],
   "source": [
    "#d.\n",
    "Default_train, Default_valid = train_test_split(Default,\n",
    "                                          test_size=5000,\n",
    "                                          random_state=0)\n",
    "\n",
    "# Fit model\n",
    "hp_mm = MS(['income', 'balance', 'student'])  # Include the 'student' variable\n",
    "X_train = hp_mm.fit_transform(Default_train)\n",
    "y_train = Default_train.default == 'Yes'\n",
    "glm = sm.Logit(y_train, X_train)\n",
    "results = glm.fit()\n",
    "    \n",
    "# Predict on validation set\n",
    "X_valid = hp_mm.transform(Default_valid)\n",
    "y_valid = Default_valid.default == 'Yes'\n",
    "valid_pred = results.predict(X_valid)\n",
    "    \n",
    "# Classification\n",
    "labels = np.array(['No'] * len(valid_pred), dtype=object)\n",
    "labels[valid_pred > 0.5] = \"Yes\"\n",
    "    \n",
    "# Convert y_valid to string format\n",
    "y_valid_str = np.where(y_valid, \"Yes\", \"No\")\n",
    "    \n",
    "# Confusion table\n",
    "conf_matrix = confusion_table(labels, y_valid_str)\n",
    "print(conf_matrix)\n",
    "    \n",
    "# Misclassification rate\n",
    "misclassification_rate = np.mean(labels != y_valid_str)\n",
    "print(f\"Misclassification rate: {misclassification_rate}\")\n",
    "    \n",
    "# Mean squared error (convert y_valid to integers)\n",
    "mse = np.mean((y_valid - valid_pred) ** 2)\n",
    "print(f\"Mean Squared Error: {mse}\")"
   ]
  },
  {
   "cell_type": "code",
   "execution_count": 429,
   "id": "3f1c36ea-ccaf-47c1-bb07-8b8a2714b749",
   "metadata": {},
   "outputs": [],
   "source": [
    "# not including a dummy variable for student leads to a reduction in the test error rate."
   ]
  },
  {
   "cell_type": "code",
   "execution_count": 430,
   "id": "992c4c87-a780-492c-9ed5-a0e646282f42",
   "metadata": {},
   "outputs": [],
   "source": [
    "#6.bootstrap &  computing the standard errors"
   ]
  },
  {
   "cell_type": "code",
   "execution_count": 431,
   "id": "da7336a7-e416-4505-8c55-4009fa5b3570",
   "metadata": {},
   "outputs": [
    {
     "data": {
      "text/plain": [
       "intercept   -11.540468\n",
       "income        0.000021\n",
       "balance       0.005647\n",
       "dtype: float64"
      ]
     },
     "execution_count": 431,
     "metadata": {},
     "output_type": "execute_result"
    }
   ],
   "source": [
    "#a.summarize() and sm.GLM()\n",
    "design = MS(['income', 'balance'])\n",
    "X = design.fit_transform(Default)\n",
    "y = Default.default == 'Yes'\n",
    "glm = sm.GLM(y, X, family=sm.families.Binomial())\n",
    "results = glm.fit()\n",
    "results.params"
   ]
  },
  {
   "cell_type": "code",
   "execution_count": 432,
   "id": "a5fa7176-6942-49cb-acbb-bb364f099551",
   "metadata": {},
   "outputs": [],
   "source": [
    "#b.boot_fn()\n",
    "def boot_fn(D, response, model_matrix, idx):\n",
    "    D_ = D.iloc[idx]  \n",
    "    Y_ = D_[response] == 'Yes'\n",
    "    X_ = clone(model_matrix).fit_transform(D_)\n",
    "    return sm.GLM(Y_, X_, family=sm.families.Binomial()).fit().params[['income', 'balance']]"
   ]
  },
  {
   "cell_type": "code",
   "execution_count": 433,
   "id": "0cdc754a-74b8-4e62-840a-cc5804d6b236",
   "metadata": {},
   "outputs": [],
   "source": [
    "#c.estimate the standard errors of the logistic regression coefcients for income and balance\n",
    "rng = np.random.default_rng(0)\n",
    "bootstrap_results = np.array([boot_fn(Default,  \n",
    "                                      'default',  # Response variable\n",
    "                                      MS(['income', 'balance']),  # Model matrix\n",
    "                                      rng.choice(len(Default), len(Default), replace=True))  # Bootstrap sample indices\n",
    "                              for _ in range(10)])"
   ]
  },
  {
   "cell_type": "code",
   "execution_count": 434,
   "id": "ee17dd80-f8b6-4f53-88f7-126fca33f85f",
   "metadata": {},
   "outputs": [
    {
     "data": {
      "text/plain": [
       "array([[1.87775777e-05, 5.73877605e-03],\n",
       "       [3.20594655e-05, 6.16200434e-03],\n",
       "       [1.59221870e-05, 5.61832222e-03],\n",
       "       [1.40723398e-05, 5.41168597e-03],\n",
       "       [1.12728778e-05, 5.70216361e-03],\n",
       "       [1.85974460e-05, 5.83443562e-03],\n",
       "       [1.52822182e-05, 5.53172383e-03],\n",
       "       [1.73720495e-05, 5.70192972e-03],\n",
       "       [2.33921172e-05, 5.28010522e-03],\n",
       "       [1.50937413e-05, 5.46083916e-03]])"
      ]
     },
     "execution_count": 434,
     "metadata": {},
     "output_type": "execute_result"
    }
   ],
   "source": [
    "bootstrap_results#coefficient"
   ]
  },
  {
   "cell_type": "code",
   "execution_count": 435,
   "id": "358141f5-66d3-4289-800d-f8941a807df6",
   "metadata": {},
   "outputs": [],
   "source": [
    "def logistic_func(D, idx):\n",
    "    return boot_fn(D, 'default', MS(['income', 'balance']), idx)"
   ]
  },
  {
   "cell_type": "code",
   "execution_count": 436,
   "id": "c629386b-ccc0-444c-9f6a-f7878f3b7a78",
   "metadata": {},
   "outputs": [],
   "source": [
    "logistic_se = boot_SE(logistic_func, Default, B=1000, seed=0)"
   ]
  },
  {
   "cell_type": "code",
   "execution_count": 437,
   "id": "eb5dda6f-4de1-403f-9a75-16c57dcfda55",
   "metadata": {},
   "outputs": [
    {
     "data": {
      "text/plain": [
       "(4.7671997498212794e-06, 0.00023043534317812312)"
      ]
     },
     "execution_count": 437,
     "metadata": {},
     "output_type": "execute_result"
    }
   ],
   "source": [
    "logistic_se['income'],logistic_se['balance']"
   ]
  },
  {
   "cell_type": "code",
   "execution_count": 438,
   "id": "5ac15a8d-0e5b-47ab-82e6-41975fb9de14",
   "metadata": {},
   "outputs": [
    {
     "data": {
      "text/plain": [
       "(4.985245458257297e-06, 0.0002273813844021023)"
      ]
     },
     "execution_count": 438,
     "metadata": {},
     "output_type": "execute_result"
    }
   ],
   "source": [
    "results.bse['income'],results.bse['balance']"
   ]
  },
  {
   "cell_type": "code",
   "execution_count": 439,
   "id": "b5d680b6-3879-4e3c-b7ce-f0e2266933a1",
   "metadata": {},
   "outputs": [],
   "source": [
    "#the estimated standard errors are close "
   ]
  },
  {
   "cell_type": "code",
   "execution_count": 440,
   "id": "14190d8f-0e64-4293-9dfe-8c5d6a15bb99",
   "metadata": {
    "scrolled": true
   },
   "outputs": [],
   "source": [
    "#7.LOOCV\n",
    "Weekly = load_data('Weekly')"
   ]
  },
  {
   "cell_type": "code",
   "execution_count": 441,
   "id": "9e12f830-f12d-418d-8e66-26c02426e39a",
   "metadata": {},
   "outputs": [],
   "source": [
    "#######a.logistic"
   ]
  },
  {
   "cell_type": "code",
   "execution_count": 442,
   "id": "1a11a5ac-daee-4845-a710-237da8c754b1",
   "metadata": {},
   "outputs": [
    {
     "data": {
      "text/html": [
       "<div>\n",
       "<style scoped>\n",
       "    .dataframe tbody tr th:only-of-type {\n",
       "        vertical-align: middle;\n",
       "    }\n",
       "\n",
       "    .dataframe tbody tr th {\n",
       "        vertical-align: top;\n",
       "    }\n",
       "\n",
       "    .dataframe thead th {\n",
       "        text-align: right;\n",
       "    }\n",
       "</style>\n",
       "<table border=\"1\" class=\"dataframe\">\n",
       "  <thead>\n",
       "    <tr style=\"text-align: right;\">\n",
       "      <th></th>\n",
       "      <th>coef</th>\n",
       "      <th>std err</th>\n",
       "      <th>z</th>\n",
       "      <th>P&gt;|z|</th>\n",
       "    </tr>\n",
       "  </thead>\n",
       "  <tbody>\n",
       "    <tr>\n",
       "      <th>intercept</th>\n",
       "      <td>0.2212</td>\n",
       "      <td>0.061</td>\n",
       "      <td>3.599</td>\n",
       "      <td>0.000</td>\n",
       "    </tr>\n",
       "    <tr>\n",
       "      <th>Lag1</th>\n",
       "      <td>-0.0387</td>\n",
       "      <td>0.026</td>\n",
       "      <td>-1.477</td>\n",
       "      <td>0.140</td>\n",
       "    </tr>\n",
       "    <tr>\n",
       "      <th>Lag2</th>\n",
       "      <td>0.0602</td>\n",
       "      <td>0.027</td>\n",
       "      <td>2.270</td>\n",
       "      <td>0.023</td>\n",
       "    </tr>\n",
       "  </tbody>\n",
       "</table>\n",
       "</div>"
      ],
      "text/plain": [
       "             coef  std err      z  P>|z|\n",
       "intercept  0.2212    0.061  3.599  0.000\n",
       "Lag1      -0.0387    0.026 -1.477  0.140\n",
       "Lag2       0.0602    0.027  2.270  0.023"
      ]
     },
     "execution_count": 442,
     "metadata": {},
     "output_type": "execute_result"
    }
   ],
   "source": [
    "model = MS(['Lag1','Lag2']).fit(Weekly)\n",
    "X = model.transform(Weekly)\n",
    "y = Weekly.Direction == 'Up'\n",
    "\n",
    "glm = sm.GLM(y, X, family=sm.families.Binomial())\n",
    "results = glm.fit()\n",
    "summarize(results)"
   ]
  },
  {
   "cell_type": "code",
   "execution_count": 443,
   "id": "873308f5-defe-401b-8d5f-596484cabb7f",
   "metadata": {},
   "outputs": [
    {
     "data": {
      "text/html": [
       "<div>\n",
       "<style scoped>\n",
       "    .dataframe tbody tr th:only-of-type {\n",
       "        vertical-align: middle;\n",
       "    }\n",
       "\n",
       "    .dataframe tbody tr th {\n",
       "        vertical-align: top;\n",
       "    }\n",
       "\n",
       "    .dataframe thead th {\n",
       "        text-align: right;\n",
       "    }\n",
       "</style>\n",
       "<table border=\"1\" class=\"dataframe\">\n",
       "  <thead>\n",
       "    <tr style=\"text-align: right;\">\n",
       "      <th></th>\n",
       "      <th>coef</th>\n",
       "      <th>std err</th>\n",
       "      <th>z</th>\n",
       "      <th>P&gt;|z|</th>\n",
       "    </tr>\n",
       "  </thead>\n",
       "  <tbody>\n",
       "    <tr>\n",
       "      <th>intercept</th>\n",
       "      <td>0.2232</td>\n",
       "      <td>0.061</td>\n",
       "      <td>3.630</td>\n",
       "      <td>0.000</td>\n",
       "    </tr>\n",
       "    <tr>\n",
       "      <th>Lag1</th>\n",
       "      <td>-0.0384</td>\n",
       "      <td>0.026</td>\n",
       "      <td>-1.466</td>\n",
       "      <td>0.143</td>\n",
       "    </tr>\n",
       "    <tr>\n",
       "      <th>Lag2</th>\n",
       "      <td>0.0608</td>\n",
       "      <td>0.027</td>\n",
       "      <td>2.291</td>\n",
       "      <td>0.022</td>\n",
       "    </tr>\n",
       "  </tbody>\n",
       "</table>\n",
       "</div>"
      ],
      "text/plain": [
       "             coef  std err      z  P>|z|\n",
       "intercept  0.2232    0.061  3.630  0.000\n",
       "Lag1      -0.0384    0.026 -1.466  0.143\n",
       "Lag2       0.0608    0.027  2.291  0.022"
      ]
     },
     "execution_count": 443,
     "metadata": {},
     "output_type": "execute_result"
    }
   ],
   "source": [
    "#####b.using all but the frst observation\n",
    "Weekly_trimmed = Weekly.iloc[1:]\n",
    "model = MS(['Lag1','Lag2']).fit(Weekly_trimmed)\n",
    "X = model.transform(Weekly_trimmed)\n",
    "y = Weekly_trimmed.Direction == 'Up'\n",
    "\n",
    "glm = sm.GLM(y, X, family=sm.families.Binomial())\n",
    "results = glm.fit()\n",
    "summarize(results)"
   ]
  },
  {
   "cell_type": "code",
   "execution_count": 444,
   "id": "042f2610-5dbf-4a63-bb99-33b21bc973cb",
   "metadata": {},
   "outputs": [
    {
     "name": "stdout",
     "output_type": "stream",
     "text": [
      "The first observation was incorrectly classified.\n"
     ]
    }
   ],
   "source": [
    "#c. predict the direction of the frst obser\u0002vation\n",
    "X_first = model.transform(Weekly.iloc[[0]])\n",
    "probs = results.predict(exog=X_first)\n",
    "labels = np.array(['Down']*1)\n",
    "labels[probs >0.5] = \"Up\"\n",
    "actual_direction = Weekly.iloc[0].Direction\n",
    "if labels[0] == actual_direction:\n",
    "    print(\"The first observation was correctly classified.\")\n",
    "else:\n",
    "    print(\"The first observation was incorrectly classified.\")"
   ]
  },
  {
   "cell_type": "code",
   "execution_count": 445,
   "id": "29656086-340a-4981-a37b-192aa9d5f878",
   "metadata": {},
   "outputs": [
    {
     "name": "stdout",
     "output_type": "stream",
     "text": [
      "[1 1 0 1 0 1 0 0 0 1]\n",
      "Total number of errors: 490\n",
      "Error rate: 45.00%\n"
     ]
    }
   ],
   "source": [
    "#d.a for loop from i = 1 to i = n\n",
    "n = len(Weekly)\n",
    "errors = []\n",
    "\n",
    "for i in range(n):\n",
    "    Weekly_train = Weekly.drop(index=i)\n",
    "    X_validate = model.transform(Weekly.iloc[[i]])\n",
    "    \n",
    "    model = MS(['Lag1','Lag2']).fit(Weekly_train)\n",
    "    X = model.transform(Weekly_train)\n",
    "    y = Weekly_train.Direction == 'Up'\n",
    "    \n",
    "    glm = sm.GLM(y, X, family=sm.families.Binomial())\n",
    "    results = glm.fit()\n",
    "\n",
    "      \n",
    "    # Compute the posterior probability for the ith observation\n",
    "    prob_up = results.predict(exog = X_validate) # Probability of market moving Up\n",
    "    predicted_direction = np.array(['Down']*1)\n",
    "    predicted_direction[prob_up >0.5] = \"Up\"\n",
    "    actual_direction = Weekly.iloc[i].Direction\n",
    "\n",
    "    # Determine if an error was made (1 for error, 0 for correct)\n",
    "    error = 1 if predicted_direction != actual_direction else 0\n",
    "    errors.append(error)\n",
    "\n",
    "errors = np.array(errors)\n",
    "\n",
    "# Output the total number of errors\n",
    "print(errors[:10])\n",
    "print(f\"Total number of errors: {errors.sum()}\")\n",
    "print(f\"Error rate: {errors.mean() * 100:.2f}%\")"
   ]
  },
  {
   "cell_type": "code",
   "execution_count": 546,
   "id": "8266e096-56d6-4993-8297-4170a92b6164",
   "metadata": {},
   "outputs": [],
   "source": [
    "#8.cross-validation\n",
    "rng = np.random.default_rng(6)\n",
    "x = rng.normal(size=100)\n",
    "y = x - 2 * x**2 + rng.normal(size=100)"
   ]
  },
  {
   "cell_type": "code",
   "execution_count": 447,
   "id": "49b6dd93-2e0a-4263-8ae0-f2b2795ce142",
   "metadata": {},
   "outputs": [],
   "source": [
    "#x is a vector of 100 random numbers drawn from a standard normal distribution.\n",
    "#y=x−2x^2+ϵ\n",
    "#ϵ i ∼N(0,1) is the noise term, assumed to be normally distributed with mean 0 and variance 1.\n"
   ]
  },
  {
   "cell_type": "code",
   "execution_count": 547,
   "id": "22a6d49d-3425-4d0e-92d1-6a01e1b209fc",
   "metadata": {},
   "outputs": [
    {
     "data": {
      "image/png": "[encoded data removed]",
      "text/plain": [
       "<Figure size 640x480 with 1 Axes>"
      ]
     },
     "metadata": {},
     "output_type": "display_data"
    }
   ],
   "source": [
    "#b.\n",
    "plt.scatter(x, y, color='blue', alpha=0.5)\n",
    "plt.title('Scatterplot of X vs Y')\n",
    "plt.xlabel('X')\n",
    "plt.ylabel('Y')\n",
    "plt.show()"
   ]
  },
  {
   "cell_type": "code",
   "execution_count": 548,
   "id": "01040354-a2b8-493e-8236-053592dba44d",
   "metadata": {},
   "outputs": [
    {
     "data": {
      "text/plain": [
       "1    6.652710\n",
       "2    1.115958\n",
       "3    1.100045\n",
       "4    1.350448\n",
       "dtype: float64"
      ]
     },
     "execution_count": 548,
     "metadata": {},
     "output_type": "execute_result"
    }
   ],
   "source": [
    "#c.\n",
    "np.random.seed(1)\n",
    "cv_err = pd.Series()\n",
    "for i in range(1, 5):\n",
    "    poly_reg = Pipeline([(\"poly\", PolynomialFeatures(degree = i)), (\"reg\", LinearRegression())])\n",
    "    loo = LeaveOneOut()\n",
    "    cv_scores = cross_val_score(poly_reg, x.reshape(-1, 1), y, scoring = \"neg_mean_squared_error\", cv = loo)\n",
    "    cv_err.loc[i] = - np.mean(cv_scores.mean())\n",
    "cv_err"
   ]
  },
  {
   "cell_type": "code",
   "execution_count": 549,
   "id": "1df80c80-9448-4447-ba1d-5f7c6aeab64d",
   "metadata": {},
   "outputs": [
    {
     "data": {
      "text/plain": [
       "1    6.652710\n",
       "2    1.115958\n",
       "3    1.100045\n",
       "4    1.350448\n",
       "dtype: float64"
      ]
     },
     "execution_count": 549,
     "metadata": {},
     "output_type": "execute_result"
    }
   ],
   "source": [
    "#d\n",
    "np.random.seed(6)\n",
    "for i in range(1, 5):\n",
    "    poly_reg = Pipeline([(\"poly\", PolynomialFeatures(degree = i)), (\"reg\", LinearRegression())])\n",
    "    loo = LeaveOneOut()\n",
    "    cv_scores = cross_val_score(poly_reg, x.reshape(-1, 1), y, scoring = \"neg_mean_squared_error\", cv = loo)\n",
    "    cv_err.loc[i] = - np.mean(cv_scores.mean())\n",
    "cv_err"
   ]
  },
  {
   "cell_type": "code",
   "execution_count": null,
   "id": "35f3bb58-863f-40aa-8b1f-e4464aecfaa4",
   "metadata": {},
   "outputs": [],
   "source": [
    "#the seed has no effect"
   ]
  },
  {
   "cell_type": "code",
   "execution_count": null,
   "id": "8fffb6e9-d729-4408-b204-e5b7525dbbc7",
   "metadata": {},
   "outputs": [],
   "source": [
    "#e model 3 cubic"
   ]
  },
  {
   "cell_type": "code",
   "execution_count": 555,
   "id": "e94ab273-6e37-4c2a-9cfc-587a879d2b87",
   "metadata": {},
   "outputs": [
    {
     "name": "stdout",
     "output_type": "stream",
     "text": [
      "                     coef  std err      t  P>|t|\n",
      "intercept         -1.6483    0.249 -6.616  0.000\n",
      "poly(X, degree=1)  8.8425    2.491  3.549  0.001\n",
      "                         coef  std err       t  P>|t|\n",
      "intercept             -1.6483    0.104 -15.840    0.0\n",
      "poly(X, degree=2)[0]   8.8425    1.041   8.498    0.0\n",
      "poly(X, degree=2)[1] -22.4332    1.041 -21.558    0.0\n",
      "                         coef  std err       t  P>|t|\n",
      "intercept             -1.6483    0.104 -15.897  0.000\n",
      "poly(X, degree=3)[0]   8.8425    1.037   8.529  0.000\n",
      "poly(X, degree=3)[1] -22.4332    1.037 -21.637  0.000\n",
      "poly(X, degree=3)[2]   1.3551    1.037   1.307  0.194\n",
      "                         coef  std err       t  P>|t|\n",
      "intercept             -1.6483    0.104 -15.863  0.000\n",
      "poly(X, degree=4)[0]   8.8425    1.039   8.510  0.000\n",
      "poly(X, degree=4)[1] -22.4332    1.039 -21.589  0.000\n",
      "poly(X, degree=4)[2]   1.3551    1.039   1.304  0.195\n",
      "poly(X, degree=4)[3]  -0.7902    1.039  -0.760  0.449\n"
     ]
    }
   ],
   "source": [
    "data = pd.DataFrame({'X': x, 'Y': y})\n",
    "\n",
    "for i in range(1, 5):\n",
    "    X = MS([poly('X', degree=i)]).fit_transform(data)\n",
    "    model = sm.OLS(data['Y'], X)\n",
    "    \n",
    "    print(summarize(model.fit()))\n",
    "    "
   ]
  },
  {
   "cell_type": "code",
   "execution_count": null,
   "id": "aa69e1b2-4f86-4ee1-a6ef-efe3044f0bb0",
   "metadata": {},
   "outputs": [],
   "source": [
    "#Yes the results agree with LOOCV"
   ]
  },
  {
   "cell_type": "code",
   "execution_count": null,
   "id": "25970cc5-6f13-48f9-96f4-35f63f44f831",
   "metadata": {},
   "outputs": [],
   "source": [
    "########9"
   ]
  },
  {
   "cell_type": "code",
   "execution_count": 559,
   "id": "f87ffea2-2054-42c7-88f2-86c6217e3077",
   "metadata": {},
   "outputs": [],
   "source": [
    "Boston = load_data(\"Boston\")"
   ]
  },
  {
   "cell_type": "code",
   "execution_count": 577,
   "id": "d5cfc8f6-583d-4d22-a61b-13a73321e9a9",
   "metadata": {},
   "outputs": [
    {
     "data": {
      "text/plain": [
       "22.532806324110677"
      ]
     },
     "execution_count": 577,
     "metadata": {},
     "output_type": "execute_result"
    }
   ],
   "source": [
    "mean = np.mean(Boston['medv'])\n",
    "mean"
   ]
  },
  {
   "cell_type": "code",
   "execution_count": 581,
   "id": "6d8360f9-b5e0-4882-9795-45ae00a0fc9c",
   "metadata": {},
   "outputs": [
    {
     "data": {
      "text/plain": [
       "0.4088611474975351"
      ]
     },
     "execution_count": 581,
     "metadata": {},
     "output_type": "execute_result"
    }
   ],
   "source": [
    "#b\n",
    "SE = Boston['medv'].std()/np.sqrt(len(Boston['medv']))\n",
    "SE"
   ]
  },
  {
   "cell_type": "code",
   "execution_count": null,
   "id": "730ecec4-e843-4a15-9748-d72cf6ee956a",
   "metadata": {},
   "outputs": [],
   "source": [
    "#c bootstrap"
   ]
  },
  {
   "cell_type": "code",
   "execution_count": 575,
   "id": "be6f6099-3cbe-48a0-b277-c39811cabecc",
   "metadata": {},
   "outputs": [
    {
     "data": {
      "text/plain": [
       "0.40958658058390807"
      ]
     },
     "execution_count": 575,
     "metadata": {},
     "output_type": "execute_result"
    }
   ],
   "source": [
    "rng = np.random.default_rng(0)\n",
    "\n",
    "# Bootstrap setup for custom function\n",
    "bootstrap_means = []\n",
    "\n",
    "\n",
    "\n",
    "for _ in range(10000):\n",
    "    boot_sample = resample(Boston['medv'])\n",
    "    bootstrap_means.append(boot_sample.mean())\n",
    "    \n",
    "SE_bootstrap = np.std(bootstrap_means, ddof=1)\n",
    "\n",
    "SE_bootstrap\n",
    "\n"
   ]
  },
  {
   "cell_type": "code",
   "execution_count": 576,
   "id": "1d021cd4-3174-4bc3-b823-0a0b8a3b3b75",
   "metadata": {},
   "outputs": [],
   "source": [
    "#close to the true SE"
   ]
  },
  {
   "cell_type": "code",
   "execution_count": null,
   "id": "2f95457e-cbbf-4a2e-a0de-f84baa1b8f3a",
   "metadata": {},
   "outputs": [],
   "source": [
    "#d.a 95 % confdence interval for the mean of medv"
   ]
  },
  {
   "cell_type": "code",
   "execution_count": 582,
   "id": "b84bb220-aef2-45b4-8c4a-1a93e58b6263",
   "metadata": {},
   "outputs": [
    {
     "data": {
      "text/plain": [
       "[21.715084029115605, 23.35052861910575]"
      ]
     },
     "execution_count": 582,
     "metadata": {},
     "output_type": "execute_result"
    }
   ],
   "source": [
    "[mean - 2*SE,mean + 2*SE]"
   ]
  },
  {
   "cell_type": "code",
   "execution_count": 583,
   "id": "dd5a2552-e7a4-4bb1-95c1-3692a0a6eefc",
   "metadata": {},
   "outputs": [
    {
     "data": {
      "text/plain": [
       "[21.737747035573125, 23.338142292490115]"
      ]
     },
     "execution_count": 583,
     "metadata": {},
     "output_type": "execute_result"
    }
   ],
   "source": [
    "conf_interval_bootstrap = [\n",
    "    np.percentile(bootstrap_means, 2.5),\n",
    "    np.percentile(bootstrap_means, 97.5)\n",
    "]\n",
    "conf_interval_bootstrap"
   ]
  },
  {
   "cell_type": "code",
   "execution_count": 584,
   "id": "67ff0191-fd04-461b-9088-e2d05497622f",
   "metadata": {},
   "outputs": [
    {
     "data": {
      "text/plain": [
       "21.2"
      ]
     },
     "execution_count": 584,
     "metadata": {},
     "output_type": "execute_result"
    }
   ],
   "source": [
    "#\n",
    "µˆmed = Boston['medv'].median()\n",
    "µˆmed"
   ]
  },
  {
   "cell_type": "code",
   "execution_count": 586,
   "id": "fdc1a427-183e-4b14-8eee-d8d50d471c61",
   "metadata": {},
   "outputs": [
    {
     "data": {
      "text/plain": [
       "0.37710540996387487"
      ]
     },
     "execution_count": 586,
     "metadata": {},
     "output_type": "execute_result"
    }
   ],
   "source": [
    "#f\n",
    "bootstrap_medians = []\n",
    "\n",
    "for _ in range(10000):\n",
    "    boot_sample = resample(Boston['medv'])\n",
    "    bootstrap_medians.append(boot_sample.median())\n",
    "\n",
    "SE_med = np.std(bootstrap_medians, ddof=1)\n",
    "\n",
    "SE_med"
   ]
  },
  {
   "cell_type": "code",
   "execution_count": 587,
   "id": "62321f91-5390-4cd7-be2e-1933ef797966",
   "metadata": {},
   "outputs": [
    {
     "data": {
      "text/plain": [
       "12.75"
      ]
     },
     "execution_count": 587,
     "metadata": {},
     "output_type": "execute_result"
    }
   ],
   "source": [
    "#g\n",
    "np.percentile(Boston['medv'], 10)"
   ]
  },
  {
   "cell_type": "code",
   "execution_count": 588,
   "id": "e26f3aab-4770-44cd-a098-3b598cbaf07c",
   "metadata": {},
   "outputs": [
    {
     "data": {
      "text/plain": [
       "0.5008641348591041"
      ]
     },
     "execution_count": 588,
     "metadata": {},
     "output_type": "execute_result"
    }
   ],
   "source": [
    "#h\n",
    "bootstrap_tenth = []\n",
    "\n",
    "for _ in range(10000):\n",
    "    boot_sample = resample(Boston['medv'])\n",
    "    bootstrap_tenth.append(np.percentile(boot_sample, 10))\n",
    "\n",
    "SE_tenth = np.std(bootstrap_tenth, ddof=1)\n",
    "\n",
    "SE_tenth"
   ]
  }
 ],
 "metadata": {
  "kernelspec": {
   "display_name": "Python 3 (ipykernel)",
   "language": "python",
   "name": "python3"
  },
  "language_info": {
   "codemirror_mode": {
    "name": "ipython",
    "version": 3
   },
   "file_extension": ".py",
   "mimetype": "text/x-python",
   "name": "python",
   "nbconvert_exporter": "python",
   "pygments_lexer": "ipython3",
   "version": "3.11.7"
  }
 },
 "nbformat": 4,
 "nbformat_minor": 5
}
