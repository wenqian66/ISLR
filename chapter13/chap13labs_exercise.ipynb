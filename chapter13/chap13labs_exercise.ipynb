{
 "cells": [
  {
   "cell_type": "code",
   "execution_count": 65,
   "id": "9103d053-eede-46c2-bc73-a18be160bec6",
   "metadata": {},
   "outputs": [],
   "source": [
    "import numpy as np\n",
    "import pandas as pd\n",
    "import matplotlib.pyplot as plt\n",
    "import statsmodels.api as sm\n",
    "from ISLP import load_data\n",
    "from scipy.stats import \\\n",
    "(ttest_1samp,\n",
    "ttest_rel,\n",
    "ttest_ind,\n",
    "t as t_dbn)\n",
    "from statsmodels.stats.multicomp import \\\n",
    "pairwise_tukeyhsd\n",
    "from statsmodels.stats.multitest import \\\n",
    "multipletests as mult_test\n",
    "from ISLP.models import (ModelSpec as MS,\n",
    "summarize,\n",
    "poly)"
   ]
  },
  {
   "cell_type": "code",
   "execution_count": null,
   "id": "044e2533-4247-4b5d-9427-93b616a45e93",
   "metadata": {},
   "outputs": [],
   "source": [
    "#13.6 Lab: Multiple Testing"
   ]
  },
  {
   "cell_type": "code",
   "execution_count": null,
   "id": "85273037-714c-4675-9185-e7413d239a17",
   "metadata": {},
   "outputs": [],
   "source": [
    "#13.6.1 Review of Hypothesis Tests"
   ]
  },
  {
   "cell_type": "code",
   "execution_count": 2,
   "id": "dee3b07f-11b9-4b15-90bf-27744d513ae5",
   "metadata": {},
   "outputs": [],
   "source": [
    "#First we create 100 vari\u0002ables, each consisting of 10 observations. The frst 50 variables have mean 0.5 and variance 1, \n",
    "#while the others have mean 0 and variance 1.\n",
    "rng = np.random.default_rng(12)\n",
    "X = rng.standard_normal((10, 100))\n",
    "true_mean = np.array([0.5]*50 + [0]*50)\n",
    "X += true_mean[None,:]"
   ]
  },
  {
   "cell_type": "code",
   "execution_count": 3,
   "id": "80b75a0f-1e68-4087-b477-870df07cb93e",
   "metadata": {},
   "outputs": [
    {
     "data": {
      "text/plain": [
       "0.9307442156164141"
      ]
     },
     "execution_count": 3,
     "metadata": {},
     "output_type": "execute_result"
    }
   ],
   "source": [
    "#test H0 : µ1 = 0, the null hypothesis that the first variable has mean zero.\n",
    "result = ttest_1samp(X[:,0], 0)\n",
    "result.pvalue"
   ]
  },
  {
   "cell_type": "code",
   "execution_count": 4,
   "id": "9e1b31ae-8b85-42d8-924c-1a53d2921615",
   "metadata": {},
   "outputs": [],
   "source": [
    "# test H0,j : µj = 0 for j = 1,..., 100\n",
    "# compute the 100 p\u0002values, and then construct a vector recording whether the jth p-value is less than or equal to 0.05\n",
    "p_values = np.empty(100)\n",
    "for i in range(100):\n",
    "    p_values[i] = ttest_1samp(X[:,i], 0).pvalue\n",
    "decision = pd.cut(p_values,\n",
    "                  [0, 0.05, 1],\n",
    "                  labels=['Reject H0',\n",
    "                          'Do not reject H0'])\n",
    "truth = pd.Categorical(true_mean == 0,\n",
    "                       categories=[True, False],\n",
    "                       ordered=True)"
   ]
  },
  {
   "cell_type": "code",
   "execution_count": 5,
   "id": "ec30a249-f879-4785-b77b-3889ebe9d0f9",
   "metadata": {},
   "outputs": [
    {
     "data": {
      "text/html": [
       "<div>\n",
       "<style scoped>\n",
       "    .dataframe tbody tr th:only-of-type {\n",
       "        vertical-align: middle;\n",
       "    }\n",
       "\n",
       "    .dataframe tbody tr th {\n",
       "        vertical-align: top;\n",
       "    }\n",
       "\n",
       "    .dataframe thead th {\n",
       "        text-align: right;\n",
       "    }\n",
       "</style>\n",
       "<table border=\"1\" class=\"dataframe\">\n",
       "  <thead>\n",
       "    <tr style=\"text-align: right;\">\n",
       "      <th>H0</th>\n",
       "      <th>True</th>\n",
       "      <th>False</th>\n",
       "    </tr>\n",
       "    <tr>\n",
       "      <th>Decision</th>\n",
       "      <th></th>\n",
       "      <th></th>\n",
       "    </tr>\n",
       "  </thead>\n",
       "  <tbody>\n",
       "    <tr>\n",
       "      <th>Reject H0</th>\n",
       "      <td>5</td>\n",
       "      <td>15</td>\n",
       "    </tr>\n",
       "    <tr>\n",
       "      <th>Do not reject H0</th>\n",
       "      <td>45</td>\n",
       "      <td>35</td>\n",
       "    </tr>\n",
       "  </tbody>\n",
       "</table>\n",
       "</div>"
      ],
      "text/plain": [
       "H0                True  False\n",
       "Decision                     \n",
       "Reject H0            5     15\n",
       "Do not reject H0    45     35"
      ]
     },
     "execution_count": 5,
     "metadata": {},
     "output_type": "execute_result"
    }
   ],
   "source": [
    "pd.crosstab(decision,\n",
    "            truth,\n",
    "            rownames=['Decision'],\n",
    "            colnames=['H0'])"
   ]
  },
  {
   "cell_type": "code",
   "execution_count": null,
   "id": "42101c89-6be1-4fb8-8b98-41ece6593202",
   "metadata": {},
   "outputs": [],
   "source": [
    "#Therefore, at level α = 0.05, we reject 15 of the 50 false null hypotheses, and we incorrectly reject 5 of the true null hypotheses."
   ]
  },
  {
   "cell_type": "code",
   "execution_count": 6,
   "id": "3fada50c-cd26-44f6-804b-974d18a86aca",
   "metadata": {},
   "outputs": [
    {
     "data": {
      "text/html": [
       "<div>\n",
       "<style scoped>\n",
       "    .dataframe tbody tr th:only-of-type {\n",
       "        vertical-align: middle;\n",
       "    }\n",
       "\n",
       "    .dataframe tbody tr th {\n",
       "        vertical-align: top;\n",
       "    }\n",
       "\n",
       "    .dataframe thead th {\n",
       "        text-align: right;\n",
       "    }\n",
       "</style>\n",
       "<table border=\"1\" class=\"dataframe\">\n",
       "  <thead>\n",
       "    <tr style=\"text-align: right;\">\n",
       "      <th>H0</th>\n",
       "      <th>True</th>\n",
       "      <th>False</th>\n",
       "    </tr>\n",
       "    <tr>\n",
       "      <th>Decision</th>\n",
       "      <th></th>\n",
       "      <th></th>\n",
       "    </tr>\n",
       "  </thead>\n",
       "  <tbody>\n",
       "    <tr>\n",
       "      <th>Reject H0</th>\n",
       "      <td>2</td>\n",
       "      <td>40</td>\n",
       "    </tr>\n",
       "    <tr>\n",
       "      <th>Do not reject H0</th>\n",
       "      <td>48</td>\n",
       "      <td>10</td>\n",
       "    </tr>\n",
       "  </tbody>\n",
       "</table>\n",
       "</div>"
      ],
      "text/plain": [
       "H0                True  False\n",
       "Decision                     \n",
       "Reject H0            2     40\n",
       "Do not reject H0    48     10"
      ]
     },
     "execution_count": 6,
     "metadata": {},
     "output_type": "execute_result"
    }
   ],
   "source": [
    "# simulate data with a stronger signal, so that the ratio of the mean to the standard deviation for the false null hypotheses equals 1.\n",
    "# We make only 10 Type II errors.\n",
    "true_mean = np.array([1]*50 + [0]*50)\n",
    "X = rng.standard_normal((10, 100))\n",
    "X += true_mean[None,:]\n",
    "for i in range(100):\n",
    "    p_values[i] = ttest_1samp(X[:,i], 0).pvalue\n",
    "decision = pd.cut(p_values,\n",
    "                  [0, 0.05, 1],\n",
    "                  labels=['Reject H0',\n",
    "                          'Do not reject H0'])\n",
    "truth = pd.Categorical(true_mean == 0,\n",
    "                       categories=[True, False],\n",
    "                       ordered=True)\n",
    "pd.crosstab(decision,\n",
    "            truth,\n",
    "            rownames=['Decision'],\n",
    "            colnames=['H0'])"
   ]
  },
  {
   "cell_type": "code",
   "execution_count": null,
   "id": "a9b089a2-af3b-4c48-9913-de8fd36ea35a",
   "metadata": {},
   "outputs": [],
   "source": [
    "#13.6.2 Family-Wise Error Rate"
   ]
  },
  {
   "cell_type": "code",
   "execution_count": 7,
   "id": "91e44bd8-8bd5-40b5-ad36-903a5cb7115f",
   "metadata": {},
   "outputs": [
    {
     "data": {
      "image/png": "[encoded data removed]",
      "text/plain": [
       "<Figure size 640x480 with 1 Axes>"
      ]
     },
     "metadata": {},
     "output_type": "display_data"
    }
   ],
   "source": [
    "#FWER is equal to 1 − (1 − α)m\n",
    "m = np.linspace(1, 501)\n",
    "fig, ax = plt.subplots()\n",
    "[ax.plot(m,\n",
    "         1 - (1 - alpha)**m,\n",
    "         label=r'$\\alpha=%s$' % str(alpha)) \n",
    "         for alpha in [0.05, 0.01, 0.001]]\n",
    "ax.set_xscale('log')\n",
    "ax.set_xlabel('Number of Hypotheses')\n",
    "ax.set_ylabel('Family-Wise Error Rate')\n",
    "ax.legend()\n",
    "ax.axhline(0.05, c='k', ls='--');"
   ]
  },
  {
   "cell_type": "code",
   "execution_count": null,
   "id": "402707f5-3b33-4913-b7e5-e27ba1e6f54c",
   "metadata": {},
   "outputs": [],
   "source": [
    "#even for moderate values of m such as 50, the FWER exceeds 0.05 unless α is set to a very low value, such as 0.001."
   ]
  },
  {
   "cell_type": "code",
   "execution_count": 8,
   "id": "be7c3c94-c8ce-4527-808b-8a8bd36a4b5e",
   "metadata": {},
   "outputs": [
    {
     "data": {
      "text/plain": [
       "array([0.00620236, 0.91827115, 0.01160098, 0.6005396 , 0.75578151])"
      ]
     },
     "execution_count": 8,
     "metadata": {},
     "output_type": "execute_result"
    }
   ],
   "source": [
    "#a one-sample t-test for each of the frst fve managers in the Fund dataset\n",
    "Fund = load_data('Fund')\n",
    "fund_mini = Fund.iloc[:,:5]\n",
    "fund_mini_pvals = np.empty(5)\n",
    "for i in range(5):\n",
    "    fund_mini_pvals[i] = ttest_1samp(fund_mini.iloc[:,i], 0).pvalue\n",
    "fund_mini_pvals"
   ]
  },
  {
   "cell_type": "code",
   "execution_count": 9,
   "id": "0fdb5c3b-c45e-4aef-ab5e-dcbb899fc9be",
   "metadata": {},
   "outputs": [
    {
     "data": {
      "text/plain": [
       "array([ True, False, False, False, False])"
      ]
     },
     "execution_count": 9,
     "metadata": {},
     "output_type": "execute_result"
    }
   ],
   "source": [
    "#conduct Bonferroni’s method\n",
    "reject, bonf = mult_test(fund_mini_pvals, method = \"bonferroni\")[:2]\n",
    "reject"
   ]
  },
  {
   "cell_type": "code",
   "execution_count": null,
   "id": "9d8d53d5-a2f8-4e8e-a6cf-97284c8e13b9",
   "metadata": {},
   "outputs": [],
   "source": [
    "#The p-values bonf are simply the fund_mini_pvalues multiplied by 5 and truncated to be less than or equal to 1."
   ]
  },
  {
   "cell_type": "code",
   "execution_count": 10,
   "id": "1587c11f-93fa-4c1d-8679-2b1da6659ad9",
   "metadata": {},
   "outputs": [
    {
     "data": {
      "text/plain": [
       "(array([0.03101178, 1.        , 0.05800491, 1.        , 1.        ]),\n",
       " array([0.03101178, 1.        , 0.05800491, 1.        , 1.        ]))"
      ]
     },
     "execution_count": 10,
     "metadata": {},
     "output_type": "execute_result"
    }
   ],
   "source": [
    "bonf, np.minimum(fund_mini_pvals * 5, 1)"
   ]
  },
  {
   "cell_type": "code",
   "execution_count": null,
   "id": "e472e667-68e6-43d0-8830-26ebf683b109",
   "metadata": {},
   "outputs": [],
   "source": [
    "#Therefore, using Bonferroni’s method, we are able to reject the null hy\u0002pothesis only for Manager One while controlling FWER at 0.05."
   ]
  },
  {
   "cell_type": "code",
   "execution_count": 11,
   "id": "9d944c62-83fd-4bd0-8a0a-217000e0ce41",
   "metadata": {},
   "outputs": [
    {
     "data": {
      "text/plain": [
       "(array([ True, False,  True, False, False]),\n",
       " array([0.03101178, 1.        , 0.04640393, 1.        , 1.        ]))"
      ]
     },
     "execution_count": 11,
     "metadata": {},
     "output_type": "execute_result"
    }
   ],
   "source": [
    "#Holm’s method, the adjusted p-values indicate that we can reject the null hypotheses for Managers One and Three at a FWER of 0.05.\n",
    "mult_test(fund_mini_pvals, method = \"holm\", alpha=0.05)[:2]"
   ]
  },
  {
   "cell_type": "code",
   "execution_count": 12,
   "id": "6d44722e-33db-4c40-90b2-2af0826f1307",
   "metadata": {},
   "outputs": [
    {
     "data": {
      "text/plain": [
       "Manager1    3.0\n",
       "Manager2   -0.1\n",
       "Manager3    2.8\n",
       "Manager4    0.5\n",
       "Manager5    0.3\n",
       "dtype: float64"
      ]
     },
     "execution_count": 12,
     "metadata": {},
     "output_type": "execute_result"
    }
   ],
   "source": [
    "fund_mini.mean()"
   ]
  },
  {
   "cell_type": "code",
   "execution_count": 13,
   "id": "b2a88575-bdbc-4ade-9d3a-899d7bc92c53",
   "metadata": {},
   "outputs": [
    {
     "data": {
      "text/plain": [
       "0.038391072368079586"
      ]
     },
     "execution_count": 13,
     "metadata": {},
     "output_type": "execute_result"
    }
   ],
   "source": [
    "#performing a paired t-test\n",
    "ttest_rel(fund_mini['Manager1'],\n",
    "          fund_mini['Manager2']).pvalue"
   ]
  },
  {
   "cell_type": "code",
   "execution_count": null,
   "id": "6a6bcaa8-4115-420b-acf5-f5269fef12af",
   "metadata": {},
   "outputs": [],
   "source": [
    "#The test results in a p-value of 0.038, suggesting a statistically signifcant diference."
   ]
  },
  {
   "cell_type": "code",
   "execution_count": null,
   "id": "c0c9c2b2-cf0f-4811-9c19-b4a33b6053ea",
   "metadata": {},
   "outputs": [],
   "source": [
    "#apply Tukey’s method in order to adjust for multiple testing"
   ]
  },
  {
   "cell_type": "code",
   "execution_count": 14,
   "id": "507a0dc2-9fa6-40bc-b266-42524e5a509b",
   "metadata": {},
   "outputs": [
    {
     "name": "stdout",
     "output_type": "stream",
     "text": [
      "Multiple Comparison of Means - Tukey HSD, FWER=0.05\n",
      "===================================================\n",
      "group1 group2 meandiff p-adj   lower  upper  reject\n",
      "---------------------------------------------------\n",
      "     1      2     -3.1 0.1862 -6.9865 0.7865  False\n",
      "     1      3     -0.2 0.9999 -4.0865 3.6865  False\n",
      "     1      4     -2.5 0.3948 -6.3865 1.3865  False\n",
      "     1      5     -2.7 0.3152 -6.5865 1.1865  False\n",
      "     2      3      2.9 0.2453 -0.9865 6.7865  False\n",
      "     2      4      0.6 0.9932 -3.2865 4.4865  False\n",
      "     2      5      0.4 0.9986 -3.4865 4.2865  False\n",
      "     3      4     -2.3  0.482 -6.1865 1.5865  False\n",
      "     3      5     -2.5 0.3948 -6.3865 1.3865  False\n",
      "     4      5     -0.2 0.9999 -4.0865 3.6865  False\n",
      "---------------------------------------------------\n"
     ]
    }
   ],
   "source": [
    "returns = np.hstack([fund_mini.iloc[:,i] for i in range(5)])\n",
    "managers = np.hstack([[i+1]*50 for i in range(5)])\n",
    "tukey = pairwise_tukeyhsd(returns, managers)\n",
    "print(tukey.summary())"
   ]
  },
  {
   "cell_type": "code",
   "execution_count": 15,
   "id": "e8c3b040-b9e8-4951-aadf-5a642833037d",
   "metadata": {},
   "outputs": [
    {
     "data": {
      "image/png": "[encoded data removed]",
      "text/plain": [
       "<Figure size 1000x600 with 1 Axes>"
      ]
     },
     "metadata": {},
     "output_type": "display_data"
    }
   ],
   "source": [
    "fig, ax = plt.subplots(figsize=(8,8))\n",
    "tukey.plot_simultaneous(ax=ax);"
   ]
  },
  {
   "cell_type": "code",
   "execution_count": null,
   "id": "571fd3cc-413c-4aba-8f91-4f871e21ac5a",
   "metadata": {},
   "outputs": [],
   "source": [
    "#13.6.3 False Discovery Rate"
   ]
  },
  {
   "cell_type": "code",
   "execution_count": 16,
   "id": "bf323c11-b3ec-45f2-b6be-fbc50eecbeaf",
   "metadata": {},
   "outputs": [],
   "source": [
    "#perform hypothesis tests for all 2,000 fund managers in the Fund dataset.\n",
    "fund_pvalues = np.empty(2000)\n",
    "for i, manager in enumerate(Fund.columns):\n",
    "    fund_pvalues[i] = ttest_1samp(Fund[manager], 0).pvalue"
   ]
  },
  {
   "cell_type": "code",
   "execution_count": 17,
   "id": "68133a02-a244-4637-bc57-369afb38496e",
   "metadata": {},
   "outputs": [
    {
     "data": {
      "text/plain": [
       "array([0.08988921, 0.991491  , 0.12211561, 0.92342997, 0.95603587,\n",
       "       0.07513802, 0.0767015 , 0.07513802, 0.07513802, 0.07513802])"
      ]
     },
     "execution_count": 17,
     "metadata": {},
     "output_type": "execute_result"
    }
   ],
   "source": [
    "#controlling the FDR\n",
    "fund_qvalues = mult_test(fund_pvalues, method = \"fdr_bh\")[1]\n",
    "fund_qvalues[:10]"
   ]
  },
  {
   "cell_type": "code",
   "execution_count": null,
   "id": "d1960584-68ff-4b8c-9f72-75dc122e92ab",
   "metadata": {},
   "outputs": [],
   "source": [
    "#q-values output by the Benjamini–Hochberg procedure can be inter\u0002preted as the smallest FDR threshold \n",
    "#at which we would reject a particular null hypothesis."
   ]
  },
  {
   "cell_type": "code",
   "execution_count": 18,
   "id": "258c387a-4214-4f07-9b1c-b008a451b07e",
   "metadata": {},
   "outputs": [
    {
     "data": {
      "text/plain": [
       "146"
      ]
     },
     "execution_count": 18,
     "metadata": {},
     "output_type": "execute_result"
    }
   ],
   "source": [
    "#If we control the FDR at 10%\n",
    "#We find that 146 of the 2,000 fund managers have a q-value below 0.1;\n",
    "#therefore, we are able to conclude that 146 of the fund managers beat the market at an FDR of 10%. \n",
    "#Only about 15 (10% of 146) of these fund managers are likely to be false discoveries.\n",
    "(fund_qvalues <= 0.1).sum()"
   ]
  },
  {
   "cell_type": "code",
   "execution_count": 19,
   "id": "8ac16cd0-5f7e-4f11-a86e-5eba73577e6c",
   "metadata": {},
   "outputs": [
    {
     "data": {
      "text/plain": [
       "0"
      ]
     },
     "execution_count": 19,
     "metadata": {},
     "output_type": "execute_result"
    }
   ],
   "source": [
    "#used Bonferroni’s method to control the FWER at level α = 0.1\n",
    "(fund_pvalues <= 0.1 / 2000).sum()\n",
    "#then we would have failed to reject any null hypotheses"
   ]
  },
  {
   "cell_type": "code",
   "execution_count": 21,
   "id": "7ce7c1e9-2c4a-4af7-970c-fad381fd4c6e",
   "metadata": {},
   "outputs": [
    {
     "data": {
      "image/png": "[encoded data removed]",
      "text/plain": [
       "<Figure size 640x480 with 1 Axes>"
      ]
     },
     "metadata": {},
     "output_type": "display_data"
    }
   ],
   "source": [
    "# im\u0002plement the Benjamini–Hochberg procedure ourselves, in order to illustrate how it works.\n",
    "sorted_ = np.sort(fund_pvalues)\n",
    "m = fund_pvalues.shape[0]\n",
    "q = 0.1\n",
    "sorted_set_ = np.where(sorted_ < q * np.linspace(1, m, m) / m)[0]\n",
    "if sorted_set_.shape[0] > 0:\n",
    "    selected_ = fund_pvalues < sorted_[sorted_set_].max()\n",
    "    sorted_set_ = np.arange(sorted_set_.max())\n",
    "else:\n",
    "    selected_ = []\n",
    "    sorted_set_ = []\n",
    "\n",
    "fig, ax = plt.subplots()\n",
    "ax.scatter(np.arange(0, sorted_.shape[0]) + 1,\n",
    "sorted_, s=10)\n",
    "ax.set_yscale('log')\n",
    "ax.set_xscale('log')\n",
    "ax.set_ylabel('P-Value')\n",
    "ax.set_xlabel('Index')\n",
    "ax.scatter(sorted_set_+1, sorted_[sorted_set_], c='r', s=20)\n",
    "ax.axline((0, 0), (1,q/m), c='k', ls='--', linewidth=3);"
   ]
  },
  {
   "cell_type": "code",
   "execution_count": null,
   "id": "8340a582-93b0-4f5a-84f6-4d391b002b1e",
   "metadata": {},
   "outputs": [],
   "source": [
    "#When the FDR is controlled at level q = 0.1, 146 null hypotheses are rejected"
   ]
  },
  {
   "cell_type": "code",
   "execution_count": null,
   "id": "99473919-b0d9-4cb3-97fa-782263e9af21",
   "metadata": {},
   "outputs": [],
   "source": [
    "#13.6.4 A Re-Sampling Approach"
   ]
  },
  {
   "cell_type": "code",
   "execution_count": 23,
   "id": "eae14fd2-78bf-4e17-90cb-19c4b413b10b",
   "metadata": {},
   "outputs": [
    {
     "data": {
      "text/plain": [
       "2    29\n",
       "4    25\n",
       "3    18\n",
       "1    11\n",
       "Name: Y, dtype: int64"
      ]
     },
     "execution_count": 23,
     "metadata": {},
     "output_type": "execute_result"
    }
   ],
   "source": [
    "#merge the training and testing data\n",
    "#results in observations on 83 patients for 2,308 genes.\n",
    "Khan = load_data('Khan')\n",
    "D = pd.concat([Khan['xtrain'], Khan['xtest']])\n",
    "D['Y'] = pd.concat([Khan['ytrain'], Khan['ytest']])\n",
    "D['Y'].value_counts()"
   ]
  },
  {
   "cell_type": "code",
   "execution_count": 24,
   "id": "ba9d4137-f874-4ecd-8e3d-0688cd37b646",
   "metadata": {},
   "outputs": [
    {
     "data": {
      "text/plain": [
       "(-2.0936330736768185, 0.04118643782678394)"
      ]
     },
     "execution_count": 24,
     "metadata": {},
     "output_type": "execute_result"
    }
   ],
   "source": [
    "# For each gene, we compare the mean ex\u0002pression in the second class (rhabdomyosarcoma) to the mean expression in\n",
    "#the fourth class (Burkitt’s lymphoma). Performing a standard two-sample t-test\n",
    "D2 = D[lambda df:df['Y'] == 2]\n",
    "D4 = D[lambda df:df['Y'] == 4]\n",
    "gene_11 = 'G0011'\n",
    "observedT, pvalue = ttest_ind(D2[gene_11],\n",
    "                              D4[gene_11],\n",
    "                              equal_var=True)\n",
    "observedT, pvalue"
   ]
  },
  {
   "cell_type": "code",
   "execution_count": null,
   "id": "458837c0-e14e-4960-a86c-a470cda24e6a",
   "metadata": {},
   "outputs": [],
   "source": [
    "#Performing a standard two-sample t-test on the 11th gene produces a\n",
    "#test-statistic of -2.09 and an associated p-value of 0.0412, suggesting \n",
    "#modest evidence of a diference in mean expression levels between the two cancer types."
   ]
  },
  {
   "cell_type": "code",
   "execution_count": null,
   "id": "9ec8687d-1998-47e5-9660-12c52008463a",
   "metadata": {},
   "outputs": [],
   "source": [
    "#However, this p-value relies on the assumption that under the null hy\u0002pothesis of no diference between the two groups, the test statistic follows a t-distribution with 29 + 25 − 2 = 52 degrees of freedom."
   ]
  },
  {
   "cell_type": "code",
   "execution_count": 25,
   "id": "2b46055f-eb08-431a-b3fd-c86846957533",
   "metadata": {},
   "outputs": [
    {
     "data": {
      "text/plain": [
       "0.0398"
      ]
     },
     "execution_count": 25,
     "metadata": {},
     "output_type": "execute_result"
    }
   ],
   "source": [
    "#Under the null hypothesis of no diference between the groups, this new test statis\u0002tic should have the same distribution as our original one.\n",
    "#Repeating this process 10,000 times allows us to approximate the null distribution of the\n",
    "#test statistic. We compute the fraction of the time that our observed test statistic exceeds the test statistics obtained via re-sampling.\n",
    "B = 10000\n",
    "Tnull = np.empty(B)\n",
    "D_ = np.hstack([D2[gene_11], D4[gene_11]])\n",
    "n_ = D2[gene_11].shape[0]\n",
    "D_null = D_.copy()\n",
    "for b in range(B):\n",
    "    rng.shuffle(D_null)\n",
    "    ttest_ = ttest_ind(D_null[:n_],\n",
    "                       D_null[n_:],\n",
    "                       equal_var=True)\n",
    "    Tnull[b] = ttest_.statistic\n",
    "(np.abs(Tnull) > np.abs(observedT)).mean()"
   ]
  },
  {
   "cell_type": "code",
   "execution_count": null,
   "id": "2f19ac3b-768b-4de0-a0cb-9682511e0a51",
   "metadata": {},
   "outputs": [],
   "source": [
    "#This fraction, 0.0398, is our re-sampling-based p-value. It is almost identical to the p-value of 0.0412 obtained using the theoretical null distribution."
   ]
  },
  {
   "cell_type": "code",
   "execution_count": 26,
   "id": "08de2d37-8ec4-4b26-9f18-277737102479",
   "metadata": {},
   "outputs": [
    {
     "data": {
      "image/png": "[encoded data removed]",
      "text/plain": [
       "<Figure size 800x800 with 1 Axes>"
      ]
     },
     "metadata": {},
     "output_type": "display_data"
    }
   ],
   "source": [
    "fig, ax = plt.subplots(figsize=(8,8))\n",
    "ax.hist(Tnull,\n",
    "        bins=100,\n",
    "        density=True,\n",
    "        facecolor='y',\n",
    "        label='Null')\n",
    "xval = np.linspace(-4.2, 4.2, 1001)\n",
    "ax.plot(xval,\n",
    "        t_dbn.pdf(xval, D_.shape[0]-2),\n",
    "        c='r')\n",
    "ax.axvline(observedT,\n",
    "           c='b',\n",
    "           label='Observed')\n",
    "ax.legend()\n",
    "ax.set_xlabel(\"Null Distribution of Test Statistic\");"
   ]
  },
  {
   "cell_type": "code",
   "execution_count": 28,
   "id": "60d6bf05-23a7-4d77-8714-96ad29ee5690",
   "metadata": {},
   "outputs": [],
   "source": [
    "#implement the plug-in re-sampling FDR approach outlined in Algorithm 13.4\n",
    "m, B = 100, 10000\n",
    "idx = rng.choice(Khan['xtest'].columns, m, replace=False)\n",
    "T_vals = np.empty(m)\n",
    "Tnull_vals = np.empty((m, B))\n",
    "for j in range(m):\n",
    "    col = idx[j]\n",
    "    T_vals[j] = ttest_ind(D2[col],\n",
    "                          D4[col],\n",
    "                          equal_var=True).statistic\n",
    "    D_ = np.hstack([D2[col], D4[col]])\n",
    "    D_null = D_.copy()\n",
    "    for b in range(B):\n",
    "        rng.shuffle(D_null)\n",
    "        ttest_ = ttest_ind(D_null[:n_],\n",
    "                           D_null[n_:],\n",
    "                           equal_var=True)\n",
    "        Tnull_vals[j,b] = ttest_.statistic"
   ]
  },
  {
   "cell_type": "code",
   "execution_count": 29,
   "id": "35409882-d74b-455a-996c-0b076f95ea38",
   "metadata": {},
   "outputs": [],
   "source": [
    "#compute the number of rejected null hypotheses R, the esti\u0002mated number of false positives W V , and the estimated FDR, for a range\n",
    "#of threshold values c in Algorithm 13.4.\n",
    "cutoffs = np.sort(np.abs(T_vals))\n",
    "FDRs, Rs, Vs = np.empty((3, m))\n",
    "for j in range(m):\n",
    "    R = np.sum(np.abs(T_vals) >= cutoffs[j])\n",
    "    V = np.sum(np.abs(Tnull_vals) >= cutoffs[j]) / B\n",
    "    Rs[j] = R\n",
    "    Vs[j] = V\n",
    "    FDRs[j] = V / R"
   ]
  },
  {
   "cell_type": "code",
   "execution_count": 30,
   "id": "ff20da46-4ebd-4774-95ee-9c321b3e726a",
   "metadata": {},
   "outputs": [
    {
     "data": {
      "text/plain": [
       "['G0097',\n",
       " 'G0129',\n",
       " 'G0182',\n",
       " 'G0714',\n",
       " 'G0812',\n",
       " 'G0941',\n",
       " 'G0982',\n",
       " 'G1020',\n",
       " 'G1022',\n",
       " 'G1090',\n",
       " 'G1320',\n",
       " 'G1634',\n",
       " 'G1697',\n",
       " 'G1853',\n",
       " 'G1854',\n",
       " 'G1994',\n",
       " 'G2017',\n",
       " 'G2115',\n",
       " 'G2193']"
      ]
     },
     "execution_count": 30,
     "metadata": {},
     "output_type": "execute_result"
    }
   ],
   "source": [
    "#The variable idx stores which genes were included in our 100 randomly\u0002selected genes. Let’s look at the genes whose estimated FDR is less than 0.1.\n",
    "sorted(idx[np.abs(T_vals) >= cutoffs[FDRs < 0.1].min()])"
   ]
  },
  {
   "cell_type": "code",
   "execution_count": 31,
   "id": "ea00d4aa-2cef-4e45-ae9e-9d5f3422c27e",
   "metadata": {},
   "outputs": [
    {
     "data": {
      "text/plain": [
       "['G0097',\n",
       " 'G0129',\n",
       " 'G0158',\n",
       " 'G0182',\n",
       " 'G0242',\n",
       " 'G0552',\n",
       " 'G0679',\n",
       " 'G0714',\n",
       " 'G0751',\n",
       " 'G0812',\n",
       " 'G0908',\n",
       " 'G0941',\n",
       " 'G0982',\n",
       " 'G1020',\n",
       " 'G1022',\n",
       " 'G1090',\n",
       " 'G1240',\n",
       " 'G1244',\n",
       " 'G1320',\n",
       " 'G1381',\n",
       " 'G1514',\n",
       " 'G1634',\n",
       " 'G1697',\n",
       " 'G1768',\n",
       " 'G1853',\n",
       " 'G1854',\n",
       " 'G1907',\n",
       " 'G1994',\n",
       " 'G2017',\n",
       " 'G2115',\n",
       " 'G2193']"
      ]
     },
     "execution_count": 31,
     "metadata": {},
     "output_type": "execute_result"
    }
   ],
   "source": [
    "sorted(idx[np.abs(T_vals) >= cutoffs[FDRs < 0.2].min()])"
   ]
  },
  {
   "cell_type": "code",
   "execution_count": 32,
   "id": "953f5561-a896-4417-a1fe-b31a208377e2",
   "metadata": {},
   "outputs": [
    {
     "data": {
      "image/png": "[encoded data removed]",
      "text/plain": [
       "<Figure size 640x480 with 1 Axes>"
      ]
     },
     "metadata": {},
     "output_type": "display_data"
    }
   ],
   "source": [
    "fig, ax = plt.subplots()\n",
    "ax.plot(Rs, FDRs, 'b', linewidth=3)\n",
    "ax.set_xlabel(\"Number of Rejections\")\n",
    "ax.set_ylabel(\"False Discovery Rate\");"
   ]
  },
  {
   "cell_type": "code",
   "execution_count": null,
   "id": "a80253db-3f31-4950-9980-3770bca89e3e",
   "metadata": {},
   "outputs": [],
   "source": [
    "#Applied 7."
   ]
  },
  {
   "cell_type": "code",
   "execution_count": 34,
   "id": "3b91f978-f31f-4400-862c-3d31c80a52a3",
   "metadata": {},
   "outputs": [],
   "source": [
    "Carseats = load_data(\"Carseats\")"
   ]
  },
  {
   "cell_type": "code",
   "execution_count": 52,
   "id": "7035840e-1d50-49d4-82f4-434f7d78a116",
   "metadata": {},
   "outputs": [
    {
     "name": "stdout",
     "output_type": "stream",
     "text": [
      "P-value for the coefficient of CompPrice: 0.20093982894183868\n",
      "P-value for the coefficient of Income: 0.0023096704539518047\n",
      "P-value for the coefficient of Advertising: 4.3776771103030075e-08\n",
      "P-value for the coefficient of Population: 0.31398160931904573\n",
      "P-value for the coefficient of Price: 7.618187011913444e-21\n",
      "P-value for the coefficient of Age: 2.788949839371399e-06\n",
      "P-value for the coefficient of Education: 0.2999441527131702\n"
     ]
    }
   ],
   "source": [
    "qvariables = [\"CompPrice\", \"Income\", \"Advertising\", \"Population\", \"Price\", \"Age\", \"Education\"]\n",
    "results = {}\n",
    "p_values = []\n",
    "\n",
    "for var in qvariables:\n",
    "    y = Carseats['Sales']\n",
    "    X = Carseats[var]\n",
    "    X = sm.add_constant(X)\n",
    "    model = sm.OLS(y, X)\n",
    "    results[var] = model.fit()\n",
    "\n",
    "    p_value = results[var].pvalues[1] \n",
    "    p_values.append(p_value)\n",
    "    print(f'P-value for the coefficient of {var}: {p_value}')\n",
    "\n",
    "carseats_pvals = np.array(p_values)"
   ]
  },
  {
   "cell_type": "code",
   "execution_count": null,
   "id": "676c5c47-cd73-4892-92fe-4bb0f1284dcd",
   "metadata": {},
   "outputs": [],
   "source": [
    "#b)control the Type I error at level α = 0.05 for the p-values obtained in (a)\n",
    "#reject Income,Advertising,Price,Age"
   ]
  },
  {
   "cell_type": "code",
   "execution_count": 57,
   "id": "717a049f-bf71-4571-b89b-692d9523c875",
   "metadata": {},
   "outputs": [
    {
     "data": {
      "text/plain": [
       "array([False, False,  True, False,  True,  True, False])"
      ]
     },
     "execution_count": 57,
     "metadata": {},
     "output_type": "execute_result"
    }
   ],
   "source": [
    "#c)control the FWER at the level 0.05\n",
    "#conduct Bonferroni’s method\n",
    "alpha = 0.05\n",
    "n_tests = len(carseats_pvals)\n",
    "\n",
    "reject, bonf = mult_test(carseats_pvals,alpha = alpha / n_tests, method = \"bonferroni\")[:2]\n",
    "reject"
   ]
  },
  {
   "cell_type": "code",
   "execution_count": 59,
   "id": "b6f238d4-32bb-44d9-92f9-540f00895ef1",
   "metadata": {},
   "outputs": [],
   "source": [
    "#Advertising, Price, Age(reject True)"
   ]
  },
  {
   "cell_type": "code",
   "execution_count": 60,
   "id": "92fab45c-7d63-4564-b415-53a26abc8f31",
   "metadata": {},
   "outputs": [],
   "source": [
    "#d)\n",
    "carseats_qvalues = mult_test(carseats_pvals, method = \"fdr_bh\")[1]"
   ]
  },
  {
   "cell_type": "code",
   "execution_count": 61,
   "id": "f4e64aca-eb10-4493-aaa3-1687a36df187",
   "metadata": {},
   "outputs": [
    {
     "data": {
      "text/plain": [
       "4"
      ]
     },
     "execution_count": 61,
     "metadata": {},
     "output_type": "execute_result"
    }
   ],
   "source": [
    "(carseats_qvalues <= 0.2).sum()\n",
    "#If we control the FDR at 20%\n",
    "#We find that 4 of the 7 quantitative variables have a q-value below 0.2;"
   ]
  },
  {
   "cell_type": "code",
   "execution_count": 63,
   "id": "a25c67ba-e6c3-4797-9987-85288f220e0f",
   "metadata": {},
   "outputs": [
    {
     "data": {
      "text/plain": [
       "array([False,  True,  True, False,  True,  True, False])"
      ]
     },
     "execution_count": 63,
     "metadata": {},
     "output_type": "execute_result"
    }
   ],
   "source": [
    "carseats_qvalues <= 0.2"
   ]
  },
  {
   "cell_type": "code",
   "execution_count": null,
   "id": "045354d8-890e-4a3c-adcd-28d0274469cc",
   "metadata": {},
   "outputs": [],
   "source": [
    "#When the FDR is controlled at level q = 0.2, 4 null hypotheses are rejected"
   ]
  },
  {
   "cell_type": "code",
   "execution_count": null,
   "id": "80295c47-f239-4a95-ba92-7d6e4ce42aa4",
   "metadata": {},
   "outputs": [],
   "source": [
    "#Income,Advertising,Price, age"
   ]
  },
  {
   "cell_type": "code",
   "execution_count": 66,
   "id": "21052a7f-011a-4664-acb9-336d1cbe1ca6",
   "metadata": {},
   "outputs": [],
   "source": [
    "#8)\n",
    "rng = np.random.default_rng(1)\n",
    "n, m = 20, 100\n",
    "X = rng.normal(size=(n, m))"
   ]
  },
  {
   "cell_type": "code",
   "execution_count": 69,
   "id": "f01ecf1c-80e8-4790-8d3c-29a22757eabe",
   "metadata": {},
   "outputs": [
    {
     "data": {
      "text/plain": [
       "array([5.38801264e-02, 2.02572586e-01, 8.56777131e-01, 6.19586963e-01,\n",
       "       4.66053738e-01, 8.99407380e-01, 6.54314667e-01, 2.51122603e-01,\n",
       "       2.44481627e-01, 7.79596231e-02, 2.23867120e-01, 1.18753604e-01,\n",
       "       9.16142811e-01, 2.59936463e-01, 8.06613377e-04, 1.68754852e-01,\n",
       "       2.24102132e-01, 4.66990660e-01, 9.17115858e-01, 3.24539642e-01,\n",
       "       7.55006259e-02, 2.26051291e-01, 3.71947638e-01, 5.50363076e-01,\n",
       "       5.06617712e-01, 1.77938985e-01, 4.95026920e-01, 3.55394796e-02,\n",
       "       7.86809820e-01, 3.91440181e-01, 5.97764221e-01, 4.93905898e-01,\n",
       "       9.09168824e-01, 9.03392460e-01, 7.69811614e-01, 8.79382732e-02,\n",
       "       2.98052636e-01, 3.34499336e-01, 5.86508435e-01, 2.29332821e-02,\n",
       "       9.69657768e-02, 8.52533463e-01, 1.27961775e-01, 5.23975261e-01,\n",
       "       9.55121024e-03, 8.74269694e-01, 5.35129668e-01, 3.81090333e-01,\n",
       "       4.45682897e-01, 3.93321809e-01, 6.56456680e-02, 1.72261062e-01,\n",
       "       5.53309877e-01, 8.77870665e-01, 7.67945550e-01, 5.28061448e-01,\n",
       "       2.08048085e-01, 2.20365739e-01, 2.90823382e-01, 8.72087208e-01,\n",
       "       3.22495842e-01, 5.92836128e-01, 1.54661429e-01, 9.00639622e-01,\n",
       "       3.44125210e-01, 2.17409349e-01, 9.62541069e-01, 1.53472626e-01,\n",
       "       5.54645240e-01, 3.12346367e-01, 5.43198324e-01, 8.66194041e-01,\n",
       "       5.02656345e-02, 9.11792647e-01, 3.80095208e-01, 6.86421488e-01,\n",
       "       1.84279489e-01, 3.96498952e-01, 8.33179411e-01, 6.26893134e-01,\n",
       "       1.38025098e-01, 4.67630636e-01, 5.92489473e-01, 4.97506474e-01,\n",
       "       4.64264700e-01, 7.24439700e-01, 5.77075135e-01, 6.40730270e-01,\n",
       "       5.24852522e-01, 8.43673308e-01, 1.13958825e-01, 7.01899396e-01,\n",
       "       8.96808950e-01, 3.31601161e-01, 8.59828218e-01, 1.21856970e-01,\n",
       "       3.25343012e-01, 1.30219767e-01, 4.37973175e-01, 8.96248983e-01])"
      ]
     },
     "execution_count": 69,
     "metadata": {},
     "output_type": "execute_result"
    }
   ],
   "source": [
    "#a one-sample t-test for each of the first  managers in the Fund dataset\n",
    "\n",
    "fund_pvals = np.empty(m)\n",
    "\n",
    "for i in range(m):\n",
    "    fund_pvals[i] = ttest_1samp(X[:, i], 0).pvalue\n",
    "fund_pvals"
   ]
  },
  {
   "cell_type": "code",
   "execution_count": 70,
   "id": "03768235-2583-4fcc-9688-fdf891baa2b2",
   "metadata": {},
   "outputs": [
    {
     "data": {
      "image/png": "[encoded data removed]",
      "text/plain": [
       "<Figure size 640x480 with 1 Axes>"
      ]
     },
     "metadata": {},
     "output_type": "display_data"
    }
   ],
   "source": [
    "plt.hist(fund_pvals, bins=10, edgecolor='black', alpha=0.75)\n",
    "plt.xlabel('P-value')\n",
    "plt.ylabel('Frequency')\n",
    "plt.title('Histogram of P-values for Fund Managers')\n",
    "plt.show()"
   ]
  },
  {
   "cell_type": "code",
   "execution_count": 75,
   "id": "9651e7ed-e056-47be-a096-4461bcd53d1b",
   "metadata": {},
   "outputs": [
    {
     "data": {
      "text/plain": [
       "4"
      ]
     },
     "execution_count": 75,
     "metadata": {},
     "output_type": "execute_result"
    }
   ],
   "source": [
    "#b)\n",
    "(fund_pvals<= 0.05).sum()"
   ]
  },
  {
   "cell_type": "code",
   "execution_count": null,
   "id": "ef4f6608-998f-4e5c-96b4-7cde02b3e695",
   "metadata": {},
   "outputs": [],
   "source": [
    "#how many null hypotheses do we reject? 4"
   ]
  },
  {
   "cell_type": "code",
   "execution_count": 73,
   "id": "9f18708c-16ca-48f6-b96a-3ad7f5d12877",
   "metadata": {},
   "outputs": [
    {
     "data": {
      "text/plain": [
       "0"
      ]
     },
     "execution_count": 73,
     "metadata": {},
     "output_type": "execute_result"
    }
   ],
   "source": [
    "#c)\n",
    "alpha = 0.05\n",
    "n_tests = len(fund_pvals)\n",
    "\n",
    "reject, bonf = mult_test(fund_pvals,alpha = alpha / n_tests, method = \"bonferroni\")[:2]\n",
    "reject.sum()"
   ]
  },
  {
   "cell_type": "code",
   "execution_count": null,
   "id": "820290c8-ee2b-4b3b-99e2-2bad7d9ca5eb",
   "metadata": {},
   "outputs": [],
   "source": [
    "#0"
   ]
  },
  {
   "cell_type": "code",
   "execution_count": 77,
   "id": "94bba436-8d3c-46e9-8483-e256c7c2ca54",
   "metadata": {},
   "outputs": [
    {
     "data": {
      "text/plain": [
       "0"
      ]
     },
     "execution_count": 77,
     "metadata": {},
     "output_type": "execute_result"
    }
   ],
   "source": [
    "#d)\n",
    "fund_qvalues = mult_test(fund_pvals, method = \"fdr_bh\")[1]\n",
    "(fund_qvalues <= 0.05).sum()"
   ]
  },
  {
   "cell_type": "code",
   "execution_count": null,
   "id": "3b8c39fd-7633-4f25-9c1c-07cf2d73cdf9",
   "metadata": {},
   "outputs": [],
   "source": [
    "#best performance:smallest p-value"
   ]
  },
  {
   "cell_type": "code",
   "execution_count": 93,
   "id": "fbf5cd4e-4441-4183-af0e-07230e9f1bb2",
   "metadata": {},
   "outputs": [
    {
     "name": "stdout",
     "output_type": "stream",
     "text": [
      "Number of null hypotheses rejected controlling FWER: 0\n",
      "Number of null hypotheses rejected controlling FDR: 2\n"
     ]
    }
   ],
   "source": [
    "#e)\n",
    "top_10_indices = np.argsort(fund_pvals)[:10]\n",
    "top_10_pvals = fund_pvals[top_10_indices]\n",
    "\n",
    "alpha = 0.05\n",
    "rejects_fwer, _, _, _ = mult_test(top_10_pvals, alpha=alpha/10, method='bonferroni')\n",
    "rejected_fwer = np.sum(rejects_fwer)\n",
    "\n",
    "rejects_fdr= mult_test(top_10_pvals, method = \"fdr_bh\")[1]\n",
    "rejected_fdr = (rejects_fdr <= 0.05).sum()\n",
    "\n",
    "\n",
    "print(f\"Number of null hypotheses rejected controlling FWER: {rejected_fwer}\")\n",
    "print(f\"Number of null hypotheses rejected controlling FDR: {rejected_fdr}\")"
   ]
  },
  {
   "cell_type": "code",
   "execution_count": null,
   "id": "f46eb99e-26bf-46fd-9622-538a7fa69004",
   "metadata": {},
   "outputs": [],
   "source": [
    "# Cherry-picking based on the lowest p-values biases the sample. \n",
    "#The p-values associated with these selected managers are no longer representative of random chance across a true null distribution but are the extremes, \n",
    "#which misrepresents the general manager population."
   ]
  },
  {
   "cell_type": "code",
   "execution_count": null,
   "id": "846f31a6-358a-435e-862f-cd077b223906",
   "metadata": {},
   "outputs": [],
   "source": []
  }
 ],
 "metadata": {
  "kernelspec": {
   "display_name": "Python 3 (ipykernel)",
   "language": "python",
   "name": "python3"
  },
  "language_info": {
   "codemirror_mode": {
    "name": "ipython",
    "version": 3
   },
   "file_extension": ".py",
   "mimetype": "text/x-python",
   "name": "python",
   "nbconvert_exporter": "python",
   "pygments_lexer": "ipython3",
   "version": "3.11.7"
  }
 },
 "nbformat": 4,
 "nbformat_minor": 5
}
